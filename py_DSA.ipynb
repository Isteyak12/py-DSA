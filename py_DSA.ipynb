{
  "nbformat": 4,
  "nbformat_minor": 0,
  "metadata": {
    "colab": {
      "provenance": [],
      "toc_visible": true,
      "include_colab_link": true
    },
    "kernelspec": {
      "name": "python3",
      "display_name": "Python 3"
    },
    "language_info": {
      "name": "python"
    }
  },
  "cells": [
    {
      "cell_type": "markdown",
      "metadata": {
        "id": "view-in-github",
        "colab_type": "text"
      },
      "source": [
        "<a href=\"https://colab.research.google.com/github/Isteyak12/py-DSA/blob/main/py_DSA.ipynb\" target=\"_parent\"><img src=\"https://colab.research.google.com/assets/colab-badge.svg\" alt=\"Open In Colab\"/></a>"
      ]
    },
    {
      "cell_type": "markdown",
      "source": [
        "Google meet link:\n",
        "To join the video meeting, click this link: https://meet.google.com/kbx-vnyj-hed\n"
      ],
      "metadata": {
        "id": "l1I5SFA7lM91"
      }
    },
    {
      "cell_type": "markdown",
      "source": [
        "# Basic programming"
      ],
      "metadata": {
        "id": "KHvQmItYo8VN"
      }
    },
    {
      "cell_type": "code",
      "execution_count": null,
      "metadata": {
        "colab": {
          "base_uri": "https://localhost:8080/"
        },
        "id": "kfRBnthIB88C",
        "outputId": "f915bec5-f5f5-4507-daa0-1f2e1476b320"
      },
      "outputs": [
        {
          "output_type": "stream",
          "name": "stdout",
          "text": [
            "Python 3.7.13\n"
          ]
        }
      ],
      "source": [
        "!python --version"
      ]
    },
    {
      "cell_type": "code",
      "source": [
        "print(\"Hello World\")"
      ],
      "metadata": {
        "colab": {
          "base_uri": "https://localhost:8080/"
        },
        "id": "menldTrmDigk",
        "outputId": "b515161c-23f7-4bf6-8896-eb6d9d9e36c2"
      },
      "execution_count": null,
      "outputs": [
        {
          "output_type": "stream",
          "name": "stdout",
          "text": [
            "Hello World\n"
          ]
        }
      ]
    },
    {
      "cell_type": "code",
      "source": [
        "print('this is rafid\"s car')"
      ],
      "metadata": {
        "colab": {
          "base_uri": "https://localhost:8080/"
        },
        "id": "mokvqPFyD9JU",
        "outputId": "b66d1079-e6f0-4f9f-8e60-42a6e6618e43"
      },
      "execution_count": null,
      "outputs": [
        {
          "output_type": "stream",
          "name": "stdout",
          "text": [
            "this is rafid\"s car\n"
          ]
        }
      ]
    },
    {
      "cell_type": "code",
      "source": [
        "print(\"this is rafid's car\")\n",
        "print(\"this is rafid's car\")\n",
        "print(\"this is rafid's car\")\n",
        "print(\"this is rafid's car\")\n",
        "print(\"this is rafid's car\")"
      ],
      "metadata": {
        "colab": {
          "base_uri": "https://localhost:8080/"
        },
        "id": "M7nLV4NdESXk",
        "outputId": "a506f8cd-6fe1-471e-980b-fab1a1005c59"
      },
      "execution_count": null,
      "outputs": [
        {
          "output_type": "stream",
          "name": "stdout",
          "text": [
            "this is rafid's car\n",
            "this is rafid's car\n",
            "this is rafid's car\n",
            "this is rafid's car\n",
            "this is rafid's car\n"
          ]
        }
      ]
    },
    {
      "cell_type": "code",
      "source": [
        "print(\"this is rafid's car\",end=\",\") # \\n -> endl,break\n",
        "print(\"this is rafid's car\",end=\",\")\n",
        "print(\"this is rafid's car\",end=\",\")\n",
        "print(\"this is rafid's car\",end=\",\")\n",
        "print(\"this is rafid's car\",end=\" \")"
      ],
      "metadata": {
        "colab": {
          "base_uri": "https://localhost:8080/"
        },
        "id": "gTjuwRSVEpSv",
        "outputId": "2a3784fe-6429-4720-f7a7-45ca97d93b49"
      },
      "execution_count": null,
      "outputs": [
        {
          "output_type": "stream",
          "name": "stdout",
          "text": [
            "this is rafid's car,this is rafid's car,this is rafid's car,this is rafid's car,this is rafid's car "
          ]
        }
      ]
    },
    {
      "cell_type": "code",
      "source": [
        "a = \"Rafid\"\n",
        "print(a)\n",
        "print(type(a))"
      ],
      "metadata": {
        "colab": {
          "base_uri": "https://localhost:8080/"
        },
        "id": "KPibEFP1FJfy",
        "outputId": "7b693422-3076-4f6c-9fbb-9d8c6e965713"
      },
      "execution_count": null,
      "outputs": [
        {
          "output_type": "stream",
          "name": "stdout",
          "text": [
            "Rafid\n",
            "<class 'str'>\n"
          ]
        }
      ]
    },
    {
      "cell_type": "code",
      "source": [
        "a = 5\n",
        "a = 7\n",
        "a = 10.5\n",
        "a = 15\n",
        "\n",
        "print(a)"
      ],
      "metadata": {
        "colab": {
          "base_uri": "https://localhost:8080/"
        },
        "id": "XLgYbeeUIlor",
        "outputId": "c8c929bb-3750-46f0-a7d8-5f02129aedd4"
      },
      "execution_count": null,
      "outputs": [
        {
          "output_type": "stream",
          "name": "stdout",
          "text": [
            "15\n"
          ]
        }
      ]
    },
    {
      "cell_type": "code",
      "source": [
        "a = 5\n",
        "b = 7\n",
        "\n",
        "c = a+b\n",
        "\n",
        "print(c)"
      ],
      "metadata": {
        "colab": {
          "base_uri": "https://localhost:8080/"
        },
        "id": "bH0X0zWNGm1E",
        "outputId": "10718eb8-2977-459a-8194-f4736ff3674b"
      },
      "execution_count": null,
      "outputs": [
        {
          "output_type": "stream",
          "name": "stdout",
          "text": [
            "12\n"
          ]
        }
      ]
    },
    {
      "cell_type": "code",
      "source": [
        "a = input()\n",
        "b = input()\n",
        "\n",
        "print(type(a))\n",
        "print(type(b))\n",
        "\n",
        "a = int(a)\n",
        "b = int(b)\n",
        "\n",
        "print(type(a))\n",
        "print(type(b))\n",
        "c = a+b\n",
        "\n",
        "print(c)"
      ],
      "metadata": {
        "colab": {
          "base_uri": "https://localhost:8080/"
        },
        "id": "FWsCl6fJHr2L",
        "outputId": "ef137d0a-2334-431f-907a-235bb7924c31"
      },
      "execution_count": null,
      "outputs": [
        {
          "output_type": "stream",
          "name": "stdout",
          "text": [
            "10\n",
            "20\n",
            "<class 'str'>\n",
            "<class 'str'>\n",
            "<class 'int'>\n",
            "<class 'int'>\n",
            "30\n"
          ]
        }
      ]
    },
    {
      "cell_type": "code",
      "source": [
        "a = int(input(\"Enter a number : \"))\n",
        "b = int(input(\"Enter a number : \"))\n",
        "\n",
        "\n",
        "c = a+b\n",
        "\n",
        "print(c)"
      ],
      "metadata": {
        "colab": {
          "base_uri": "https://localhost:8080/"
        },
        "id": "lGsyIdsEJp37",
        "outputId": "12140955-552e-4b46-e5cf-f71f9a569798"
      },
      "execution_count": null,
      "outputs": [
        {
          "output_type": "stream",
          "name": "stdout",
          "text": [
            "Enter a number : 10\n",
            "Enter a number : 20\n",
            "30\n"
          ]
        }
      ]
    },
    {
      "cell_type": "code",
      "source": [
        "a = int(input(\"Enter a number : \"))\n",
        "b = int(input(\"Enter a number : \"))\n",
        "\n",
        "\n",
        "c = a+b\n",
        "\n",
        "print(\"The sum of two number is : \",c)"
      ],
      "metadata": {
        "colab": {
          "base_uri": "https://localhost:8080/"
        },
        "id": "xyhXUdqAKQs7",
        "outputId": "dbe21c3c-73b3-4f5c-9556-efea86c9fd1d"
      },
      "execution_count": null,
      "outputs": [
        {
          "output_type": "stream",
          "name": "stdout",
          "text": [
            "Enter a number : 10\n",
            "Enter a number : 20\n",
            "The sum of two number is :  30\n"
          ]
        }
      ]
    },
    {
      "cell_type": "code",
      "source": [
        "a = int(input(\"Enter a number : \"))\n",
        "b = int(input(\"Enter a number : \"))\n",
        "\n",
        "if a>b:\n",
        "  print(\"a is largest\")\n",
        "\n",
        "else :\n",
        "  print(\"b is largest\")"
      ],
      "metadata": {
        "colab": {
          "base_uri": "https://localhost:8080/"
        },
        "id": "1wpBj11dOmk7",
        "outputId": "6232113a-fa7b-4125-c654-2715a06c4d27"
      },
      "execution_count": null,
      "outputs": [
        {
          "output_type": "stream",
          "name": "stdout",
          "text": [
            "Enter a number : 10\n",
            "Enter a number : 20\n",
            "b is largest\n"
          ]
        }
      ]
    },
    {
      "cell_type": "code",
      "source": [
        "a = int(input(\"Enter a number : \"))\n",
        "b = int(input(\"Enter a number : \"))\n",
        "c = int(input(\"Enter a number : \"))\n",
        "\n",
        "if a>b and a>c:\n",
        "  print(\"a is largest\")\n",
        "\n",
        "elif b>a and b>c:\n",
        "  print(\"b is largest\")\n",
        "\n",
        "else:\n",
        "  print(\"c is largest\")\n"
      ],
      "metadata": {
        "colab": {
          "base_uri": "https://localhost:8080/"
        },
        "id": "1XcAVp9MLfhU",
        "outputId": "4c9bd998-c8fe-446f-b440-78ec3f3a8d47"
      },
      "execution_count": null,
      "outputs": [
        {
          "output_type": "stream",
          "name": "stdout",
          "text": [
            "Enter a number : 20\n",
            "Enter a number : 50\n",
            "Enter a number : 10\n",
            "b is largest\n"
          ]
        }
      ]
    },
    {
      "cell_type": "code",
      "source": [
        "def hello():\n",
        "  print(\"hi\")\n",
        "\n",
        "hello()"
      ],
      "metadata": {
        "id": "Vu2OH5bwrzSt",
        "colab": {
          "base_uri": "https://localhost:8080/"
        },
        "outputId": "c177abba-ebaa-4d40-d37e-a63259d04be5"
      },
      "execution_count": null,
      "outputs": [
        {
          "output_type": "stream",
          "name": "stdout",
          "text": [
            "hi\n"
          ]
        }
      ]
    },
    {
      "cell_type": "code",
      "source": [
        "def join_name(f_name, l_name):\n",
        "  print(f_name+\" \"+l_name)\n",
        "\n",
        "join_name(\"Riadul\", \"Rafi\")"
      ],
      "metadata": {
        "colab": {
          "base_uri": "https://localhost:8080/"
        },
        "id": "yFEsy6PUkT5_",
        "outputId": "4d6976bb-3b63-44a0-ad0d-ebce2e9465cd"
      },
      "execution_count": null,
      "outputs": [
        {
          "output_type": "stream",
          "name": "stdout",
          "text": [
            "Riadul Rafi\n"
          ]
        }
      ]
    },
    {
      "cell_type": "code",
      "source": [
        "def sum_numbers(a, b, c):\n",
        "  result = a+b+c\n",
        "  return result\n",
        "\n",
        "def sqr(n1, n2, n3):\n",
        "  p = sum_numbers(n1, n2, n3)\n",
        "  return p**2\n",
        "\n",
        "x = int(input())\n",
        "y = int(input())\n",
        "z = int(input())\n",
        "sqr_result = sqr(x, y, z)\n",
        "print(sqr_result)"
      ],
      "metadata": {
        "colab": {
          "base_uri": "https://localhost:8080/"
        },
        "id": "TfcYQoilnbrN",
        "outputId": "f16c79f0-8841-435f-fc55-6bd807597b04"
      },
      "execution_count": null,
      "outputs": [
        {
          "output_type": "stream",
          "name": "stdout",
          "text": [
            "1\n",
            "2\n",
            "3\n",
            "36\n"
          ]
        }
      ]
    },
    {
      "cell_type": "code",
      "source": [
        "n = 0\n",
        "while n<10:\n",
        "  print(n)\n",
        "  n = n + 1"
      ],
      "metadata": {
        "id": "9U4aE-6uwJQ5"
      },
      "execution_count": null,
      "outputs": []
    },
    {
      "cell_type": "code",
      "source": [
        "# for(int i=0;i<10;i++){\n",
        "#     cout<<i<<endl;\n",
        "# }\n",
        "\n",
        "for i in range(0, 10, 2):\n",
        "  print(i)"
      ],
      "metadata": {
        "colab": {
          "base_uri": "https://localhost:8080/"
        },
        "id": "dOOpSXM9xK2B",
        "outputId": "5f868663-46f5-4e49-b6cd-b44efc3e1b6f"
      },
      "execution_count": null,
      "outputs": [
        {
          "output_type": "stream",
          "name": "stdout",
          "text": [
            "0\n",
            "2\n",
            "4\n",
            "6\n",
            "8\n"
          ]
        }
      ]
    },
    {
      "cell_type": "code",
      "source": [
        "x = \"Hi\"\n",
        "y = \"Welcome to CSE203\"\n",
        "\n",
        "z = x+y\n",
        "z"
      ],
      "metadata": {
        "id": "fYkm-bE4x7Fh",
        "colab": {
          "base_uri": "https://localhost:8080/",
          "height": 35
        },
        "outputId": "438f2ba1-bcb3-4e67-ac87-182131b2bd5c"
      },
      "execution_count": null,
      "outputs": [
        {
          "output_type": "execute_result",
          "data": {
            "text/plain": [
              "'HiWelcome to CSE203'"
            ],
            "application/vnd.google.colaboratory.intrinsic+json": {
              "type": "string"
            }
          },
          "metadata": {},
          "execution_count": 1
        }
      ]
    },
    {
      "cell_type": "code",
      "source": [
        "print(sorted(y, reverse=True))\n"
      ],
      "metadata": {
        "colab": {
          "base_uri": "https://localhost:8080/"
        },
        "id": "c7JghB4Pdl6C",
        "outputId": "df88bf2f-d866-4695-91d2-d3b586b3af98"
      },
      "execution_count": null,
      "outputs": [
        {
          "output_type": "stream",
          "name": "stdout",
          "text": [
            "['t', 'o', 'o', 'm', 'l', 'e', 'e', 'c', 'W', 'S', 'E', 'C', '3', '2', '0', ' ', ' ']\n"
          ]
        }
      ]
    },
    {
      "cell_type": "code",
      "source": [
        "print(y.upper())"
      ],
      "metadata": {
        "colab": {
          "base_uri": "https://localhost:8080/"
        },
        "id": "LgvcnbaUg0iA",
        "outputId": "bec658c4-0bd3-4a85-ea7d-a0e00e5ad587"
      },
      "execution_count": null,
      "outputs": [
        {
          "output_type": "stream",
          "name": "stdout",
          "text": [
            "WELCOME TO CSE203\n"
          ]
        }
      ]
    },
    {
      "cell_type": "code",
      "source": [
        "print(y.lower())"
      ],
      "metadata": {
        "id": "H7r_xX8eh4AY"
      },
      "execution_count": null,
      "outputs": []
    },
    {
      "cell_type": "code",
      "source": [
        "print(y.title())"
      ],
      "metadata": {
        "colab": {
          "base_uri": "https://localhost:8080/"
        },
        "id": "5xddP5EDh8MI",
        "outputId": "da5e0d69-5015-49e5-b4ad-982f48cd50cc"
      },
      "execution_count": null,
      "outputs": [
        {
          "output_type": "stream",
          "name": "stdout",
          "text": [
            "Welcome To Cse203\n"
          ]
        }
      ]
    },
    {
      "cell_type": "code",
      "source": [
        "print(y.find(\"to\"))"
      ],
      "metadata": {
        "colab": {
          "base_uri": "https://localhost:8080/"
        },
        "id": "vvW6D2duiAk4",
        "outputId": "19712b2c-0d5e-4791-f434-eeb691565e54"
      },
      "execution_count": null,
      "outputs": [
        {
          "output_type": "stream",
          "name": "stdout",
          "text": [
            "8\n"
          ]
        }
      ]
    },
    {
      "cell_type": "code",
      "source": [
        "\"CSE203\" in y"
      ],
      "metadata": {
        "colab": {
          "base_uri": "https://localhost:8080/"
        },
        "id": "UIAynmxZiaLH",
        "outputId": "f895ab77-11ef-4451-808c-012b45bf151e"
      },
      "execution_count": null,
      "outputs": [
        {
          "output_type": "execute_result",
          "data": {
            "text/plain": [
              "True"
            ]
          },
          "metadata": {},
          "execution_count": 10
        }
      ]
    },
    {
      "cell_type": "code",
      "source": [
        "z = y.replace(\"CSE203\", \"CSE330\")\n",
        "print (z)"
      ],
      "metadata": {
        "colab": {
          "base_uri": "https://localhost:8080/"
        },
        "id": "FWrNz5PjjL-H",
        "outputId": "cfc1c039-01b1-492f-dab3-b84581eb1a7c"
      },
      "execution_count": null,
      "outputs": [
        {
          "output_type": "stream",
          "name": "stdout",
          "text": [
            "Welcome to CSE330\n"
          ]
        }
      ]
    },
    {
      "cell_type": "code",
      "source": [
        "#string slicing\n",
        "\n",
        "print(z[0:10])"
      ],
      "metadata": {
        "colab": {
          "base_uri": "https://localhost:8080/"
        },
        "id": "cYZ5BkfLjqG3",
        "outputId": "ce224198-ae1a-4d23-cf89-4402970f2a85"
      },
      "execution_count": null,
      "outputs": [
        {
          "output_type": "stream",
          "name": "stdout",
          "text": [
            "Welcome to\n"
          ]
        }
      ]
    },
    {
      "cell_type": "code",
      "source": [
        "print(z[8:10])"
      ],
      "metadata": {
        "colab": {
          "base_uri": "https://localhost:8080/"
        },
        "id": "QoXt90XYkwym",
        "outputId": "6b1042bb-db18-4e41-b4ae-ca2023ce6f1d"
      },
      "execution_count": null,
      "outputs": [
        {
          "output_type": "stream",
          "name": "stdout",
          "text": [
            "to\n"
          ]
        }
      ]
    },
    {
      "cell_type": "code",
      "source": [
        "print(z[7:3:-1])"
      ],
      "metadata": {
        "colab": {
          "base_uri": "https://localhost:8080/"
        },
        "id": "3brbFsaulHc2",
        "outputId": "03805750-2187-4915-80da-aa3a1a6e4537"
      },
      "execution_count": null,
      "outputs": [
        {
          "output_type": "stream",
          "name": "stdout",
          "text": [
            " emo\n"
          ]
        }
      ]
    },
    {
      "cell_type": "code",
      "source": [
        "print(z[::-1])"
      ],
      "metadata": {
        "colab": {
          "base_uri": "https://localhost:8080/"
        },
        "id": "-uGIeCk7mQZG",
        "outputId": "95c6f411-865f-4dbd-ebdc-a9b6f4530ac6"
      },
      "execution_count": null,
      "outputs": [
        {
          "output_type": "stream",
          "name": "stdout",
          "text": [
            "033ESC ot emocleW\n"
          ]
        }
      ]
    },
    {
      "cell_type": "code",
      "source": [
        "print(z[:-5:-1])"
      ],
      "metadata": {
        "colab": {
          "base_uri": "https://localhost:8080/"
        },
        "id": "Nt6arF09n_rf",
        "outputId": "1dbcc5f3-a8e7-4196-fd36-408fbdc57cc8"
      },
      "execution_count": null,
      "outputs": [
        {
          "output_type": "stream",
          "name": "stdout",
          "text": [
            "033E\n"
          ]
        }
      ]
    },
    {
      "cell_type": "code",
      "source": [
        "x = 10\n",
        "y = type(x)\n",
        "print(y)"
      ],
      "metadata": {
        "colab": {
          "base_uri": "https://localhost:8080/"
        },
        "id": "lj7qdHv30sM1",
        "outputId": "102cc2df-46af-45fe-e80e-a4dc77469337"
      },
      "execution_count": null,
      "outputs": [
        {
          "output_type": "stream",
          "name": "stdout",
          "text": [
            "<class 'int'>\n"
          ]
        }
      ]
    },
    {
      "cell_type": "code",
      "source": [
        "my_list = [1, 3.4, \"Hello\", 4]\n",
        "print(my_list)"
      ],
      "metadata": {
        "colab": {
          "base_uri": "https://localhost:8080/"
        },
        "id": "yZhYaCEOp371",
        "outputId": "8609c9f8-6978-4d3a-b543-acc75524ec4d"
      },
      "execution_count": null,
      "outputs": [
        {
          "output_type": "stream",
          "name": "stdout",
          "text": [
            "[1, 3.4, 'Hello', 4]\n"
          ]
        }
      ]
    },
    {
      "cell_type": "code",
      "source": [
        "type(my_list)"
      ],
      "metadata": {
        "colab": {
          "base_uri": "https://localhost:8080/"
        },
        "id": "1TCEQuO7rKQS",
        "outputId": "ab99e20d-73a5-4050-9481-4d41af38076e"
      },
      "execution_count": null,
      "outputs": [
        {
          "output_type": "execute_result",
          "data": {
            "text/plain": [
              "list"
            ]
          },
          "metadata": {},
          "execution_count": 23
        }
      ]
    },
    {
      "cell_type": "code",
      "source": [
        "my_list = [1, 3.4, 50, 4]\n",
        "sum(my_list)"
      ],
      "metadata": {
        "colab": {
          "base_uri": "https://localhost:8080/"
        },
        "id": "2P4DCzJvrOFD",
        "outputId": "5c6efc0e-f3bb-4ac2-be6d-22487ff6c665"
      },
      "execution_count": null,
      "outputs": [
        {
          "output_type": "execute_result",
          "data": {
            "text/plain": [
              "58.4"
            ]
          },
          "metadata": {},
          "execution_count": 24
        }
      ]
    },
    {
      "cell_type": "code",
      "source": [
        "max(my_list)"
      ],
      "metadata": {
        "colab": {
          "base_uri": "https://localhost:8080/"
        },
        "id": "GtMztWJRrzOC",
        "outputId": "4e8ce0de-fc11-41e8-deb8-28337655fdab"
      },
      "execution_count": null,
      "outputs": [
        {
          "output_type": "execute_result",
          "data": {
            "text/plain": [
              "50"
            ]
          },
          "metadata": {},
          "execution_count": 25
        }
      ]
    },
    {
      "cell_type": "code",
      "source": [
        "print (len(my_list))"
      ],
      "metadata": {
        "colab": {
          "base_uri": "https://localhost:8080/"
        },
        "id": "GIPB8lY8sNAy",
        "outputId": "badf8400-4c67-4e45-b041-2a24567b3f3e"
      },
      "execution_count": null,
      "outputs": [
        {
          "output_type": "stream",
          "name": "stdout",
          "text": [
            "4\n"
          ]
        }
      ]
    },
    {
      "cell_type": "code",
      "source": [
        "50 in my_list"
      ],
      "metadata": {
        "colab": {
          "base_uri": "https://localhost:8080/"
        },
        "id": "g7j-hRrdscWy",
        "outputId": "81b1c43b-4f54-418f-91bb-fbdba6118694"
      },
      "execution_count": null,
      "outputs": [
        {
          "output_type": "execute_result",
          "data": {
            "text/plain": [
              "True"
            ]
          },
          "metadata": {},
          "execution_count": 27
        }
      ]
    },
    {
      "cell_type": "code",
      "source": [
        "my_list[2] = 30\n",
        "my_list.append(100)\n",
        "my_list"
      ],
      "metadata": {
        "colab": {
          "base_uri": "https://localhost:8080/"
        },
        "id": "JUD1DeaeshxS",
        "outputId": "eb41339f-eabe-4abf-eb68-ca517cfa6124"
      },
      "execution_count": null,
      "outputs": [
        {
          "output_type": "execute_result",
          "data": {
            "text/plain": [
              "[1, 3.4, 30, 4, 100]"
            ]
          },
          "metadata": {},
          "execution_count": 29
        }
      ]
    },
    {
      "cell_type": "code",
      "source": [
        "my_list.insert(2, 20)\n",
        "my_list"
      ],
      "metadata": {
        "colab": {
          "base_uri": "https://localhost:8080/"
        },
        "id": "d31RkXXctAvh",
        "outputId": "f701bb62-e338-406d-d5b7-ffae1a98c853"
      },
      "execution_count": null,
      "outputs": [
        {
          "output_type": "execute_result",
          "data": {
            "text/plain": [
              "[1, 3.4, 20, 30, 4, 100]"
            ]
          },
          "metadata": {},
          "execution_count": 30
        }
      ]
    },
    {
      "cell_type": "code",
      "source": [
        "my_list.remove(3.4)\n",
        "my_list"
      ],
      "metadata": {
        "colab": {
          "base_uri": "https://localhost:8080/"
        },
        "id": "aLDDTPdWtcwh",
        "outputId": "2b316314-c397-4906-ac9e-2aca9408b2bc"
      },
      "execution_count": null,
      "outputs": [
        {
          "output_type": "execute_result",
          "data": {
            "text/plain": [
              "[1, 20, 30, 4, 100]"
            ]
          },
          "metadata": {},
          "execution_count": 31
        }
      ]
    },
    {
      "cell_type": "code",
      "source": [
        "my_list.pop(4)\n",
        "my_list"
      ],
      "metadata": {
        "colab": {
          "base_uri": "https://localhost:8080/"
        },
        "id": "A3zudd28uUXh",
        "outputId": "1f894ac9-8292-4629-c812-4d13a351e916"
      },
      "execution_count": null,
      "outputs": [
        {
          "output_type": "execute_result",
          "data": {
            "text/plain": [
              "[1, 20, 30, 4]"
            ]
          },
          "metadata": {},
          "execution_count": 32
        }
      ]
    },
    {
      "cell_type": "code",
      "source": [
        "mat = [[1,2,3,4, 10], [5,6,7,8, 20], [20, 21, 22, 23, 30]]\n",
        "print (mat)"
      ],
      "metadata": {
        "colab": {
          "base_uri": "https://localhost:8080/"
        },
        "id": "98NjLSXwufFg",
        "outputId": "a6d54f38-4ba6-4d2c-cf98-d06a8b60a053"
      },
      "execution_count": null,
      "outputs": [
        {
          "output_type": "stream",
          "name": "stdout",
          "text": [
            "[[1, 2, 3, 4], [5, 6, 7, 8]]\n"
          ]
        }
      ]
    },
    {
      "cell_type": "code",
      "source": [
        "print(mat[0][1])"
      ],
      "metadata": {
        "colab": {
          "base_uri": "https://localhost:8080/"
        },
        "id": "P52T0-0-4qzr",
        "outputId": "5fe580d7-88a8-4153-88db-aecb03a4f167"
      },
      "execution_count": null,
      "outputs": [
        {
          "output_type": "stream",
          "name": "stdout",
          "text": [
            "2\n"
          ]
        }
      ]
    },
    {
      "cell_type": "code",
      "source": [
        "sample_tuple = (1, 2.3, 5, 6)\n",
        "print(sample_tuple[2])"
      ],
      "metadata": {
        "colab": {
          "base_uri": "https://localhost:8080/"
        },
        "id": "3Hz5uLzb4tgL",
        "outputId": "f7f9ea82-8734-42c3-ce62-43453bf53c62"
      },
      "execution_count": null,
      "outputs": [
        {
          "output_type": "stream",
          "name": "stdout",
          "text": [
            "5\n"
          ]
        }
      ]
    },
    {
      "cell_type": "code",
      "source": [
        "sample_tuple[2] = 10"
      ],
      "metadata": {
        "colab": {
          "base_uri": "https://localhost:8080/",
          "height": 166
        },
        "id": "KIVqt64M6H1h",
        "outputId": "cd828e60-017b-44ff-daac-8094a1d86189"
      },
      "execution_count": null,
      "outputs": [
        {
          "output_type": "error",
          "ename": "TypeError",
          "evalue": "ignored",
          "traceback": [
            "\u001b[0;31m---------------------------------------------------------------------------\u001b[0m",
            "\u001b[0;31mTypeError\u001b[0m                                 Traceback (most recent call last)",
            "\u001b[0;32m<ipython-input-40-e48220ef14f6>\u001b[0m in \u001b[0;36m<module>\u001b[0;34m()\u001b[0m\n\u001b[0;32m----> 1\u001b[0;31m \u001b[0msample_tuple\u001b[0m\u001b[0;34m[\u001b[0m\u001b[0;36m2\u001b[0m\u001b[0;34m]\u001b[0m \u001b[0;34m=\u001b[0m \u001b[0;36m10\u001b[0m\u001b[0;34m\u001b[0m\u001b[0;34m\u001b[0m\u001b[0m\n\u001b[0m",
            "\u001b[0;31mTypeError\u001b[0m: 'tuple' object does not support item assignment"
          ]
        }
      ]
    },
    {
      "cell_type": "code",
      "source": [
        "sample_set = {\"apple\", \"banana\", \"cherry\", \"apple\"}\n",
        "print(sample_set)"
      ],
      "metadata": {
        "colab": {
          "base_uri": "https://localhost:8080/"
        },
        "id": "WoPAXcXM6QNK",
        "outputId": "c2f78c0d-9fce-4c49-e596-d44a48e374c5"
      },
      "execution_count": null,
      "outputs": [
        {
          "output_type": "stream",
          "name": "stdout",
          "text": [
            "{'banana', 'apple', 'cherry'}\n"
          ]
        }
      ]
    },
    {
      "cell_type": "code",
      "source": [
        "sample_set.add(\"orange\")\n",
        "print(sample_set)"
      ],
      "metadata": {
        "colab": {
          "base_uri": "https://localhost:8080/"
        },
        "id": "NkGFN2k17Lso",
        "outputId": "01bcbd17-598f-474f-f21c-ff4be57df9a0"
      },
      "execution_count": null,
      "outputs": [
        {
          "output_type": "stream",
          "name": "stdout",
          "text": [
            "{'banana', 'apple', 'orange', 'cherry'}\n"
          ]
        }
      ]
    },
    {
      "cell_type": "code",
      "source": [
        "sample_set.remove(\"apple\")\n",
        "print(sample_set)"
      ],
      "metadata": {
        "colab": {
          "base_uri": "https://localhost:8080/"
        },
        "id": "GMOrb8CQ70p5",
        "outputId": "a0a192d0-87de-40ba-df2a-f55cee8b1502"
      },
      "execution_count": null,
      "outputs": [
        {
          "output_type": "stream",
          "name": "stdout",
          "text": [
            "{'banana', 'orange', 'cherry'}\n"
          ]
        }
      ]
    },
    {
      "cell_type": "code",
      "source": [
        "students = {101:\"Arko\", 106: \"Milkan\", 241: \"Rika\", 502: \"Zahid\"}\n",
        "print (students)"
      ],
      "metadata": {
        "colab": {
          "base_uri": "https://localhost:8080/"
        },
        "id": "QjM3LFk08EkI",
        "outputId": "8df03f02-8b16-4f98-a305-59c768a00338"
      },
      "execution_count": null,
      "outputs": [
        {
          "output_type": "stream",
          "name": "stdout",
          "text": [
            "{101: 'Arko', 106: 'Milkan', 241: 'Rika', 502: 'Zahid'}\n"
          ]
        }
      ]
    },
    {
      "cell_type": "code",
      "source": [
        "print(students.keys())"
      ],
      "metadata": {
        "colab": {
          "base_uri": "https://localhost:8080/"
        },
        "id": "FfahSvLBAFjn",
        "outputId": "a4a3c4bd-3524-4f7e-9de4-f0905e160c70"
      },
      "execution_count": null,
      "outputs": [
        {
          "output_type": "stream",
          "name": "stdout",
          "text": [
            "dict_keys([101, 106, 241, 502])\n"
          ]
        }
      ]
    },
    {
      "cell_type": "code",
      "source": [
        "print(students.values())"
      ],
      "metadata": {
        "colab": {
          "base_uri": "https://localhost:8080/"
        },
        "id": "EzuyIrDCAT12",
        "outputId": "9f7d3792-dbdf-48ac-80f1-a9a39940860d"
      },
      "execution_count": null,
      "outputs": [
        {
          "output_type": "stream",
          "name": "stdout",
          "text": [
            "dict_values(['Arko', 'Milkan', 'Rika', 'Zahid'])\n"
          ]
        }
      ]
    },
    {
      "cell_type": "code",
      "source": [
        "print(students[106])"
      ],
      "metadata": {
        "colab": {
          "base_uri": "https://localhost:8080/"
        },
        "id": "aGC9HpURAdtV",
        "outputId": "35eaf630-fc6b-45ae-b92b-1a970f984fd2"
      },
      "execution_count": null,
      "outputs": [
        {
          "output_type": "stream",
          "name": "stdout",
          "text": [
            "Milkan\n"
          ]
        }
      ]
    },
    {
      "cell_type": "code",
      "source": [
        "students[101] = \"Sunny\"\n",
        "students"
      ],
      "metadata": {
        "colab": {
          "base_uri": "https://localhost:8080/"
        },
        "id": "NVXszDk4AukG",
        "outputId": "2e363d55-f284-4644-a51e-170d124c81b6"
      },
      "execution_count": null,
      "outputs": [
        {
          "output_type": "execute_result",
          "data": {
            "text/plain": [
              "{101: 'Sunny', 106: 'Milkan', 241: 'Rika', 502: 'Zahid'}"
            ]
          },
          "metadata": {},
          "execution_count": 51
        }
      ]
    },
    {
      "cell_type": "code",
      "source": [
        "students.update({99:\"Tahmid\"})\n",
        "students"
      ],
      "metadata": {
        "colab": {
          "base_uri": "https://localhost:8080/"
        },
        "id": "R8krCc8OBa61",
        "outputId": "09c62a71-2060-4032-d20d-5f1e17250fa8"
      },
      "execution_count": null,
      "outputs": [
        {
          "output_type": "execute_result",
          "data": {
            "text/plain": [
              "{99: 'Tahmid', 101: 'Sunny', 106: 'Milkan', 241: 'Rika', 502: 'Zahid'}"
            ]
          },
          "metadata": {},
          "execution_count": 52
        }
      ]
    },
    {
      "cell_type": "code",
      "source": [
        "students.pop(502)\n",
        "students"
      ],
      "metadata": {
        "colab": {
          "base_uri": "https://localhost:8080/"
        },
        "id": "RsSMucuUCN7V",
        "outputId": "49a5151a-ae9f-42c1-b127-f66b423a9d5f"
      },
      "execution_count": null,
      "outputs": [
        {
          "output_type": "execute_result",
          "data": {
            "text/plain": [
              "{99: 'Tahmid', 101: 'Sunny', 106: 'Milkan', 241: 'Rika'}"
            ]
          },
          "metadata": {},
          "execution_count": 53
        }
      ]
    },
    {
      "cell_type": "code",
      "source": [
        "for x, y in students.items():\n",
        "  print(\"ID=\", x, \" Name=\",y)"
      ],
      "metadata": {
        "colab": {
          "base_uri": "https://localhost:8080/"
        },
        "id": "efpSGwMhEIJ9",
        "outputId": "2a308c26-6f65-4abf-9459-3b35c2c151ff"
      },
      "execution_count": null,
      "outputs": [
        {
          "output_type": "stream",
          "name": "stdout",
          "text": [
            "ID= 101  Name= Sunny\n",
            "ID= 106  Name= Milkan\n",
            "ID= 241  Name= Rika\n",
            "ID= 99  Name= Tahmid\n"
          ]
        }
      ]
    },
    {
      "cell_type": "code",
      "source": [
        "from collections import Counter\n",
        "\n",
        "print(Counter(\"abaccceddu\"))"
      ],
      "metadata": {
        "id": "IuDuuBAuFRe0",
        "colab": {
          "base_uri": "https://localhost:8080/"
        },
        "outputId": "1c364013-2c75-45a0-ff80-cedf524242ae"
      },
      "execution_count": null,
      "outputs": [
        {
          "output_type": "stream",
          "name": "stdout",
          "text": [
            "Counter({'c': 3, 'a': 2, 'd': 2, 'b': 1, 'e': 1, 'u': 1})\n"
          ]
        }
      ]
    },
    {
      "cell_type": "code",
      "source": [
        "students = {101:\"Arko\", 106: \"Milkan\", 241: \"Rika\", 502: \"Zahid\"}\n",
        "\n",
        "\n",
        "from collections import defaultdict\n",
        "\n",
        "x = defaultdict(int, {101:\"Arko\", 106: \"Milkan\", 241: \"Rika\", 502: \"Zahid\"})\n",
        "print(x[107])"
      ],
      "metadata": {
        "colab": {
          "base_uri": "https://localhost:8080/"
        },
        "id": "hjQI0K8gn1BW",
        "outputId": "a83ac041-85b9-4890-89fb-385361bf2f66"
      },
      "execution_count": null,
      "outputs": [
        {
          "output_type": "stream",
          "name": "stdout",
          "text": [
            "0\n"
          ]
        }
      ]
    },
    {
      "cell_type": "code",
      "source": [
        "from collections import ChainMap\n",
        "\n",
        "x = {'a':1, 'b':2}\n",
        "y = {'c':3, 'd':4}\n",
        "z = {'e':10, 'f':20}\n",
        "\n",
        "c = ChainMap(x,y,z)\n",
        "print(c)"
      ],
      "metadata": {
        "colab": {
          "base_uri": "https://localhost:8080/"
        },
        "id": "8k3UHeuep-9G",
        "outputId": "26267308-a224-4258-ab98-1e1a1df2f36b"
      },
      "execution_count": null,
      "outputs": [
        {
          "output_type": "stream",
          "name": "stdout",
          "text": [
            "ChainMap({'a': 1, 'b': 2}, {'c': 3, 'd': 4}, {'e': 10, 'f': 20})\n"
          ]
        }
      ]
    },
    {
      "cell_type": "code",
      "source": [
        "print(c['d'])"
      ],
      "metadata": {
        "colab": {
          "base_uri": "https://localhost:8080/"
        },
        "id": "4GdFPLwjsWkP",
        "outputId": "5cf90a27-1228-4ab6-af81-357953e097a3"
      },
      "execution_count": null,
      "outputs": [
        {
          "output_type": "stream",
          "name": "stdout",
          "text": [
            "4\n"
          ]
        }
      ]
    },
    {
      "cell_type": "code",
      "source": [
        "x = (\"nafis\", 19, 203)\n",
        "print(x[1])"
      ],
      "metadata": {
        "colab": {
          "base_uri": "https://localhost:8080/"
        },
        "id": "INBnEJjSsjR-",
        "outputId": "78e36e42-add6-42ef-b036-f6364d4b3f23"
      },
      "execution_count": null,
      "outputs": [
        {
          "output_type": "stream",
          "name": "stdout",
          "text": [
            "19\n"
          ]
        }
      ]
    },
    {
      "cell_type": "code",
      "source": [
        "from collections import namedtuple\n",
        "a = namedtuple('namedtuple1', ['name','age', 'id'])\n",
        "student = a(\"nafis\", 19, 203)\n",
        "print(student)"
      ],
      "metadata": {
        "colab": {
          "base_uri": "https://localhost:8080/"
        },
        "id": "wjY86ld9twev",
        "outputId": "d4bc5858-89ca-418b-999e-ab2911c0ad28"
      },
      "execution_count": null,
      "outputs": [
        {
          "output_type": "stream",
          "name": "stdout",
          "text": [
            "namedtuple1(name='nafis', age=19, id=203)\n"
          ]
        }
      ]
    },
    {
      "cell_type": "code",
      "source": [
        "from collections import deque\n",
        "\n",
        "x = deque([1,2,3])\n",
        "\n",
        "x.append(5)\n",
        "print(x)"
      ],
      "metadata": {
        "colab": {
          "base_uri": "https://localhost:8080/"
        },
        "id": "dof1IMATv1iU",
        "outputId": "90a4ec88-ced0-4d15-bed6-627698574427"
      },
      "execution_count": null,
      "outputs": [
        {
          "output_type": "stream",
          "name": "stdout",
          "text": [
            "deque([1, 2, 3, 5])\n"
          ]
        }
      ]
    },
    {
      "cell_type": "code",
      "source": [
        "x.appendleft(10)\n",
        "print(x)"
      ],
      "metadata": {
        "colab": {
          "base_uri": "https://localhost:8080/"
        },
        "id": "By-xnB4Hx3KO",
        "outputId": "389edaaf-a733-4f54-bb32-d711bc639f45"
      },
      "execution_count": null,
      "outputs": [
        {
          "output_type": "stream",
          "name": "stdout",
          "text": [
            "deque([10, 1, 2, 3, 5])\n"
          ]
        }
      ]
    },
    {
      "cell_type": "code",
      "source": [
        "x.pop()\n",
        "print(x)"
      ],
      "metadata": {
        "colab": {
          "base_uri": "https://localhost:8080/"
        },
        "id": "tcdp83N3yAtu",
        "outputId": "c166250b-7623-4d74-d8bf-30c13a891b2f"
      },
      "execution_count": null,
      "outputs": [
        {
          "output_type": "stream",
          "name": "stdout",
          "text": [
            "deque([10, 1, 2, 3])\n"
          ]
        }
      ]
    },
    {
      "cell_type": "code",
      "source": [
        "x.popleft()\n",
        "print(x)"
      ],
      "metadata": {
        "colab": {
          "base_uri": "https://localhost:8080/"
        },
        "id": "qyjFssZyyRgt",
        "outputId": "7fca9f96-bb05-4873-a9f3-ace3576f2ca0"
      },
      "execution_count": null,
      "outputs": [
        {
          "output_type": "stream",
          "name": "stdout",
          "text": [
            "deque([1, 2, 3])\n"
          ]
        }
      ]
    },
    {
      "cell_type": "code",
      "source": [
        "sentence = \"Mary and Samantha arrived at The bus station early, and waited until noon for the bus.\"\n",
        "sentence = sentence.lower()\n",
        "sentence = sentence.replace(\".\", \"\")\n",
        "sentence = sentence.replace(\",\", \"\")\n",
        "\n",
        "words = sentence.split()\n",
        "\n",
        "#print(Counter(words))\n",
        "word_frequency = {}\n",
        "for x in words:\n",
        "  if x not in word_frequency:\n",
        "    word_frequency[x] = 1\n",
        "  else:\n",
        "    word_frequency[x] += 1\n",
        "\n",
        "print(word_frequency)"
      ],
      "metadata": {
        "colab": {
          "base_uri": "https://localhost:8080/"
        },
        "id": "6zpurRjEyWIu",
        "outputId": "9e3d78fb-d3ea-47ea-e885-f80cc174cfec"
      },
      "execution_count": null,
      "outputs": [
        {
          "output_type": "stream",
          "name": "stdout",
          "text": [
            "{'mary': 1, 'and': 2, 'samantha': 1, 'arrived': 1, 'at': 1, 'the': 2, 'bus': 2, 'station': 1, 'early': 1, 'waited': 1, 'until': 1, 'noon': 1, 'for': 1}\n"
          ]
        }
      ]
    },
    {
      "cell_type": "code",
      "source": [],
      "metadata": {
        "id": "8KivyMkM2_4-"
      },
      "execution_count": null,
      "outputs": []
    },
    {
      "cell_type": "markdown",
      "source": [
        "# Stack, Queue"
      ],
      "metadata": {
        "id": "wjAfnFBOqQKN"
      }
    },
    {
      "cell_type": "code",
      "source": [
        "my_stack = [5,6,1]\n",
        "my_stack.append(10)\n",
        "print(my_stack)"
      ],
      "metadata": {
        "colab": {
          "base_uri": "https://localhost:8080/"
        },
        "id": "D8f1lfQdqWal",
        "outputId": "33d14802-1d38-46ab-a424-34f9ca089c65"
      },
      "execution_count": null,
      "outputs": [
        {
          "output_type": "stream",
          "name": "stdout",
          "text": [
            "[5, 6, 1, 10]\n"
          ]
        }
      ]
    },
    {
      "cell_type": "code",
      "source": [
        "my_stack.pop()\n",
        "my_stack"
      ],
      "metadata": {
        "colab": {
          "base_uri": "https://localhost:8080/"
        },
        "id": "Qembm3djrIHe",
        "outputId": "791b6be6-d419-40a2-e5ac-5b63d6c4e375"
      },
      "execution_count": null,
      "outputs": [
        {
          "output_type": "execute_result",
          "data": {
            "text/plain": [
              "[5, 6, 1]"
            ]
          },
          "metadata": {},
          "execution_count": 2
        }
      ]
    },
    {
      "cell_type": "code",
      "source": [
        "from collections import deque\n",
        "my_queue = deque(['B', 'A', 'C'])\n",
        "my_queue.append('D')\n",
        "print(my_queue)"
      ],
      "metadata": {
        "colab": {
          "base_uri": "https://localhost:8080/"
        },
        "id": "NTgzCUPdrbiz",
        "outputId": "f6dbc2a8-af0e-4898-940b-efabc192b700"
      },
      "execution_count": null,
      "outputs": [
        {
          "output_type": "stream",
          "name": "stdout",
          "text": [
            "deque(['B', 'A', 'C', 'D'])\n"
          ]
        }
      ]
    },
    {
      "cell_type": "code",
      "source": [
        "my_queue.popleft()\n",
        "my_queue"
      ],
      "metadata": {
        "colab": {
          "base_uri": "https://localhost:8080/"
        },
        "id": "nzf-ydknsrJT",
        "outputId": "4dad62d1-942b-41dc-af4e-e21cd77ae702"
      },
      "execution_count": null,
      "outputs": [
        {
          "output_type": "execute_result",
          "data": {
            "text/plain": [
              "deque(['A', 'C', 'D'])"
            ]
          },
          "metadata": {},
          "execution_count": 4
        }
      ]
    },
    {
      "cell_type": "code",
      "source": [
        "class Person:\n",
        "  def __init__(self, person_name, by, ht):\n",
        "    self.name = person_name\n",
        "    self.__birth_year = by\n",
        "    self.height = ht\n",
        "\n",
        "  def get_name(self):\n",
        "    return self.name.upper()\n",
        "\n",
        "  def get_birthyear(self):\n",
        "    return self.__birth_year"
      ],
      "metadata": {
        "id": "hwNW_bU4s0Zy"
      },
      "execution_count": null,
      "outputs": []
    },
    {
      "cell_type": "code",
      "source": [
        "person1 = Person('Minhaj', 2000, \"6 feet\")\n",
        "print(person1.name)"
      ],
      "metadata": {
        "colab": {
          "base_uri": "https://localhost:8080/"
        },
        "id": "ohhFwfXExp-6",
        "outputId": "6f3b66e7-0905-4f34-d836-c896a4ec37fa"
      },
      "execution_count": null,
      "outputs": [
        {
          "output_type": "stream",
          "name": "stdout",
          "text": [
            "Minhaj\n"
          ]
        }
      ]
    },
    {
      "cell_type": "code",
      "source": [
        "print(person1.get_name())"
      ],
      "metadata": {
        "colab": {
          "base_uri": "https://localhost:8080/"
        },
        "id": "oLPcvYl3ywS_",
        "outputId": "80bfc1af-fad6-48b5-a0ed-ba7c854c432b"
      },
      "execution_count": null,
      "outputs": [
        {
          "output_type": "stream",
          "name": "stdout",
          "text": [
            "MINHAJ\n"
          ]
        }
      ]
    },
    {
      "cell_type": "code",
      "source": [
        "person2 = Person('abc', 1990, '4 feet')"
      ],
      "metadata": {
        "id": "GmtXOkrL2G4k"
      },
      "execution_count": null,
      "outputs": []
    },
    {
      "cell_type": "code",
      "source": [
        "print(person2.get_birthyear())"
      ],
      "metadata": {
        "colab": {
          "base_uri": "https://localhost:8080/"
        },
        "id": "QlTNJ0RX3y-a",
        "outputId": "1845dcdf-323b-425b-d8ed-195573a297aa"
      },
      "execution_count": null,
      "outputs": [
        {
          "output_type": "stream",
          "name": "stdout",
          "text": [
            "1990\n"
          ]
        }
      ]
    },
    {
      "cell_type": "code",
      "source": [
        "class Stack:\n",
        "  def __init__(self):\n",
        "    self.data = []\n",
        "\n",
        "  def size(self):\n",
        "    return len(self.data)\n",
        "\n",
        "  def isempty(self):\n",
        "    if self.size()==0:\n",
        "      return True\n",
        "    else:\n",
        "      return False\n",
        "\n",
        "  def push(self, new_element):\n",
        "    self.data.append(new_element)\n",
        "\n",
        "  def pop(self):\n",
        "    if self.isempty()==True:\n",
        "      print(\"Stack is empty\")\n",
        "    else:\n",
        "      self.data.pop()\n",
        "\n",
        "  def peek(self):\n",
        "   if self.isempty()==True:\n",
        "      print(\"Stack is empty\")\n",
        "   else:\n",
        "     return self.data[-1]"
      ],
      "metadata": {
        "id": "3j3Xgr0f41g7"
      },
      "execution_count": null,
      "outputs": []
    },
    {
      "cell_type": "code",
      "source": [
        "my_stack = Stack()\n",
        "\n",
        "my_stack.push(10)\n",
        "my_stack.push(20)\n",
        "my_stack.push(50)\n",
        "my_stack.push(100)\n",
        "my_stack.push(200)\n",
        "\n",
        "print(my_stack.peek())"
      ],
      "metadata": {
        "colab": {
          "base_uri": "https://localhost:8080/"
        },
        "id": "KU66ChHUoay9",
        "outputId": "59cb5f31-bf58-45fc-ab06-e050b64b1d72"
      },
      "execution_count": null,
      "outputs": [
        {
          "output_type": "stream",
          "name": "stdout",
          "text": [
            "200\n"
          ]
        }
      ]
    },
    {
      "cell_type": "code",
      "source": [
        "print(my_stack.data)"
      ],
      "metadata": {
        "colab": {
          "base_uri": "https://localhost:8080/"
        },
        "id": "95Hx4k_IpelW",
        "outputId": "2b24ddee-15ef-498e-f9b4-33aeaa291c12"
      },
      "execution_count": null,
      "outputs": [
        {
          "output_type": "stream",
          "name": "stdout",
          "text": [
            "[10, 20, 50, 100, 200]\n"
          ]
        }
      ]
    },
    {
      "cell_type": "code",
      "source": [
        "for i in range(0, 5):\n",
        "  my_stack.pop()"
      ],
      "metadata": {
        "id": "f1QkNvogrAWF"
      },
      "execution_count": null,
      "outputs": []
    },
    {
      "cell_type": "code",
      "source": [
        "my_stack.pop()"
      ],
      "metadata": {
        "colab": {
          "base_uri": "https://localhost:8080/"
        },
        "id": "hISykblrrseW",
        "outputId": "11d84b60-f4a9-4817-e134-79af1ac2aada"
      },
      "execution_count": null,
      "outputs": [
        {
          "output_type": "stream",
          "name": "stdout",
          "text": [
            "Stack is empty\n"
          ]
        }
      ]
    },
    {
      "cell_type": "code",
      "source": [
        "print(my_stack.size())"
      ],
      "metadata": {
        "colab": {
          "base_uri": "https://localhost:8080/"
        },
        "id": "sp6Pu4IFrw3W",
        "outputId": "7f441bc5-87a0-4a61-a286-b0630ca0ac1e"
      },
      "execution_count": null,
      "outputs": [
        {
          "output_type": "stream",
          "name": "stdout",
          "text": [
            "0\n"
          ]
        }
      ]
    },
    {
      "cell_type": "code",
      "source": [
        "from collections import deque\n",
        "\n",
        "class Queue:\n",
        "  def __init__(self):\n",
        "    self.data = deque()\n",
        "\n",
        "  def size(self):\n",
        "    return len(self.data)\n",
        "\n",
        "  def isempty(self):\n",
        "    if self.size()==0:\n",
        "      return True\n",
        "    else:\n",
        "      return False\n",
        "\n",
        "  def enqueue(self, new_element):\n",
        "    self.data.append(new_element)\n",
        "\n",
        "  def dequeue(self):\n",
        "    if self.isempty()==True:\n",
        "      print(\"Queue is empty\")\n",
        "    else:\n",
        "      self.data.popleft()\n",
        "\n",
        "  def peek(self):\n",
        "    if self.isempty()==True:\n",
        "      print(\"Queue is empty\")\n",
        "    else:\n",
        "      return self.data[0]"
      ],
      "metadata": {
        "id": "dqFRcYPEr6K2"
      },
      "execution_count": null,
      "outputs": []
    },
    {
      "cell_type": "code",
      "source": [
        "my_queue = Queue()\n",
        "my_queue.enqueue(\"B\")\n",
        "my_queue.enqueue(\"C\")\n",
        "my_queue.enqueue(\"A\")\n",
        "print(my_queue.data)"
      ],
      "metadata": {
        "colab": {
          "base_uri": "https://localhost:8080/"
        },
        "id": "-Fh1d0NzvkZ4",
        "outputId": "7bfaa35a-213e-4b15-ef15-17f27b923387"
      },
      "execution_count": null,
      "outputs": [
        {
          "output_type": "stream",
          "name": "stdout",
          "text": [
            "deque(['B', 'C', 'A'])\n"
          ]
        }
      ]
    },
    {
      "cell_type": "code",
      "source": [
        "for i in my_queue.data:\n",
        "  print(i)"
      ],
      "metadata": {
        "colab": {
          "base_uri": "https://localhost:8080/"
        },
        "id": "Lo4rKT1dwAdI",
        "outputId": "b2354ed5-bec8-462d-fc78-9c887ec3b4b6"
      },
      "execution_count": null,
      "outputs": [
        {
          "output_type": "stream",
          "name": "stdout",
          "text": [
            "B\n",
            "C\n",
            "A\n"
          ]
        }
      ]
    },
    {
      "cell_type": "code",
      "source": [
        "print(my_queue.peek())"
      ],
      "metadata": {
        "colab": {
          "base_uri": "https://localhost:8080/"
        },
        "id": "qVBWgyJhwGxH",
        "outputId": "4dd651e0-095c-4700-ed9b-c963bb50a244"
      },
      "execution_count": null,
      "outputs": [
        {
          "output_type": "stream",
          "name": "stdout",
          "text": [
            "B\n"
          ]
        }
      ]
    },
    {
      "cell_type": "code",
      "source": [
        "my_queue.dequeue()\n",
        "my_queue.dequeue()\n",
        "my_queue.dequeue()\n",
        "\n",
        "my_queue.peek()"
      ],
      "metadata": {
        "colab": {
          "base_uri": "https://localhost:8080/"
        },
        "id": "577UXDWhxsm4",
        "outputId": "a5693733-d078-4eb3-b630-a0e49cd8c7e9"
      },
      "execution_count": null,
      "outputs": [
        {
          "output_type": "stream",
          "name": "stdout",
          "text": [
            "Queue is empty\n"
          ]
        }
      ]
    },
    {
      "cell_type": "code",
      "source": [
        "from array import *\n",
        "\n",
        "my_array = array('i', [3,10,5])"
      ],
      "metadata": {
        "id": "uGSQvLmmxyY3"
      },
      "execution_count": null,
      "outputs": []
    },
    {
      "cell_type": "code",
      "source": [
        "for i in my_array:\n",
        "  print(i)"
      ],
      "metadata": {
        "colab": {
          "base_uri": "https://localhost:8080/"
        },
        "id": "Toqc-sdZBEmC",
        "outputId": "b779ac62-618e-44db-d3df-33cf3648d0d1"
      },
      "execution_count": null,
      "outputs": [
        {
          "output_type": "stream",
          "name": "stdout",
          "text": [
            "3\n",
            "10\n",
            "5\n"
          ]
        }
      ]
    },
    {
      "cell_type": "code",
      "source": [
        "my_array.append(6)\n",
        "print(my_array)"
      ],
      "metadata": {
        "colab": {
          "base_uri": "https://localhost:8080/"
        },
        "id": "fOsMc5pvBKCL",
        "outputId": "48a33c13-c465-4532-d6c7-4a4f6c1b2f48"
      },
      "execution_count": null,
      "outputs": [
        {
          "output_type": "stream",
          "name": "stdout",
          "text": [
            "array('i', [3, 10, 5, 6])\n"
          ]
        }
      ]
    },
    {
      "cell_type": "code",
      "source": [
        "my_array.insert(0, 20)\n",
        "print(my_array)"
      ],
      "metadata": {
        "colab": {
          "base_uri": "https://localhost:8080/"
        },
        "id": "IJjjrD8OBWZ7",
        "outputId": "41807f8b-6dbf-4de8-b1cf-4df891772885"
      },
      "execution_count": null,
      "outputs": [
        {
          "output_type": "stream",
          "name": "stdout",
          "text": [
            "array('i', [20, 3, 10, 5, 6])\n"
          ]
        }
      ]
    },
    {
      "cell_type": "code",
      "source": [
        "my_array.reverse()\n",
        "print(my_array)"
      ],
      "metadata": {
        "colab": {
          "base_uri": "https://localhost:8080/"
        },
        "id": "uHQptgKyBeAb",
        "outputId": "8f0e7dcd-70f1-4091-c798-9fdf70aa1fae"
      },
      "execution_count": null,
      "outputs": [
        {
          "output_type": "stream",
          "name": "stdout",
          "text": [
            "array('i', [6, 5, 10, 3, 20])\n"
          ]
        }
      ]
    },
    {
      "cell_type": "code",
      "source": [
        "print(my_array.buffer_info())"
      ],
      "metadata": {
        "colab": {
          "base_uri": "https://localhost:8080/"
        },
        "id": "S1NpEcAPBt27",
        "outputId": "cbcea7be-2a7f-42cf-81f1-71e1bd31ed13"
      },
      "execution_count": null,
      "outputs": [
        {
          "output_type": "stream",
          "name": "stdout",
          "text": [
            "(139675910512272, 5)\n"
          ]
        }
      ]
    },
    {
      "cell_type": "code",
      "source": [
        "x = my_array.tolist()\n",
        "print(x)"
      ],
      "metadata": {
        "colab": {
          "base_uri": "https://localhost:8080/"
        },
        "id": "IC3AHBhaB_Xr",
        "outputId": "b8b54d80-0590-4234-b506-cceb6bae7e15"
      },
      "execution_count": null,
      "outputs": [
        {
          "output_type": "stream",
          "name": "stdout",
          "text": [
            "[6, 5, 10, 3, 20]\n"
          ]
        }
      ]
    },
    {
      "cell_type": "code",
      "source": [
        "print(my_array.count(25))"
      ],
      "metadata": {
        "colab": {
          "base_uri": "https://localhost:8080/"
        },
        "id": "Yr_0AvqDC5w8",
        "outputId": "c2196e06-befa-4510-af76-a13f37910a80"
      },
      "execution_count": null,
      "outputs": [
        {
          "output_type": "stream",
          "name": "stdout",
          "text": [
            "0\n"
          ]
        }
      ]
    },
    {
      "cell_type": "code",
      "source": [
        "ord(\"A\")"
      ],
      "metadata": {
        "id": "hop4YRGnDDY8",
        "colab": {
          "base_uri": "https://localhost:8080/"
        },
        "outputId": "bd150712-c62a-4dda-82e7-c7ce0b789863"
      },
      "execution_count": null,
      "outputs": [
        {
          "output_type": "execute_result",
          "data": {
            "text/plain": [
              "65"
            ]
          },
          "metadata": {},
          "execution_count": 1
        }
      ]
    },
    {
      "cell_type": "code",
      "source": [
        "def print_reverse(input):\n",
        "  s = Stack()\n",
        "  for i in range(len(input)):\n",
        "    s.push(input[i])\n",
        "\n",
        "  for i in range(len(input)):\n",
        "    print(s.peek(),\" : \",ord(s.peek()))\n",
        "    s.pop()\n",
        "\n",
        "print_reverse(\"Aquib\")"
      ],
      "metadata": {
        "colab": {
          "base_uri": "https://localhost:8080/"
        },
        "id": "9iq2xDBJs7tj",
        "outputId": "7bd1b307-d2dc-4e45-99f9-4db8b82954a8"
      },
      "execution_count": null,
      "outputs": [
        {
          "output_type": "stream",
          "name": "stdout",
          "text": [
            "b  :  98\n",
            "i  :  105\n",
            "u  :  117\n",
            "q  :  113\n",
            "A  :  65\n"
          ]
        }
      ]
    },
    {
      "cell_type": "code",
      "source": [
        "from random import randint\n",
        "class Track:\n",
        "  def __init__(self, title):\n",
        "    self.title = title\n",
        "    self.duration = randint(5,10)"
      ],
      "metadata": {
        "id": "C015cQJE2CAi"
      },
      "execution_count": null,
      "outputs": []
    },
    {
      "cell_type": "code",
      "source": [
        "t1 = Track(\"Pagol Mon\")\n",
        "print(t1.title, \" : \", t1.duration)"
      ],
      "metadata": {
        "colab": {
          "base_uri": "https://localhost:8080/"
        },
        "id": "gQUBwEdK3pLi",
        "outputId": "f7a83990-1700-4f22-f907-9e34c80663af"
      },
      "execution_count": null,
      "outputs": [
        {
          "output_type": "stream",
          "name": "stdout",
          "text": [
            "Pagol Mon  :  6\n"
          ]
        }
      ]
    },
    {
      "cell_type": "code",
      "source": [
        "t2 = Track(\"Ghum\")\n",
        "print(t2.title, \" : \", t2.duration)"
      ],
      "metadata": {
        "colab": {
          "base_uri": "https://localhost:8080/"
        },
        "id": "vxu6q9RH4FaH",
        "outputId": "0f5a8bb9-c75f-4d95-83de-778dec0983a9"
      },
      "execution_count": null,
      "outputs": [
        {
          "output_type": "stream",
          "name": "stdout",
          "text": [
            "Ghum  :  9\n"
          ]
        }
      ]
    },
    {
      "cell_type": "code",
      "source": [
        "media_player = Queue()\n",
        "media_player.enqueue(t1)\n",
        "media_player.enqueue(t2)\n",
        "\n",
        "for x in media_player.data:\n",
        "  print(\"Song title: \", x.title, \" Duration: \", x.duration)\n",
        "\n"
      ],
      "metadata": {
        "colab": {
          "base_uri": "https://localhost:8080/"
        },
        "id": "hrStG6mR4ZyG",
        "outputId": "6b5ca192-8730-4cb2-c74b-28b3f9e6661d"
      },
      "execution_count": null,
      "outputs": [
        {
          "output_type": "stream",
          "name": "stdout",
          "text": [
            "Song title:  Pagol Mon  Duration:  6\n",
            "Song title:  Ghum  Duration:  9\n"
          ]
        }
      ]
    },
    {
      "cell_type": "code",
      "source": [
        "import time\n",
        "def play():\n",
        "  while not media_player.isempty():\n",
        "    current_song = media_player.peek()\n",
        "    print(\"Playing....\", current_song.title)\n",
        "    time.sleep(current_song.duration)\n",
        "    media_player.dequeue()\n",
        "  print(\"All tracks finished\")\n",
        "\n",
        "play()"
      ],
      "metadata": {
        "colab": {
          "base_uri": "https://localhost:8080/"
        },
        "id": "gvEERzRz5hkH",
        "outputId": "260953fc-ea3f-4c32-e159-f72bdfdc610b"
      },
      "execution_count": null,
      "outputs": [
        {
          "output_type": "stream",
          "name": "stdout",
          "text": [
            "Playing.... Pagol Mon\n",
            "Playing.... Ghum\n",
            "All tracks finished\n"
          ]
        }
      ]
    },
    {
      "cell_type": "code",
      "source": [],
      "metadata": {
        "id": "rb5zUhNM7Z5y"
      },
      "execution_count": null,
      "outputs": []
    },
    {
      "cell_type": "markdown",
      "source": [
        "# Linked List"
      ],
      "metadata": {
        "id": "4D9yD3Oat1zr"
      }
    },
    {
      "cell_type": "code",
      "source": [
        "class Node:\n",
        "  def __init__(self,data):\n",
        "    self.data = data\n",
        "    self.next = None"
      ],
      "metadata": {
        "id": "39bLhmIPt66D"
      },
      "execution_count": null,
      "outputs": []
    },
    {
      "cell_type": "code",
      "source": [
        "n1 = Node(10)\n",
        "n2 = Node(15)\n",
        "n3 = Node(20)\n",
        "\n",
        "n1.next = n2\n",
        "n2.next = n3\n",
        "\n",
        "current_node = n1\n",
        "while current_node is not None:\n",
        "  print(current_node.data)\n",
        "  current_node = current_node.next"
      ],
      "metadata": {
        "colab": {
          "base_uri": "https://localhost:8080/"
        },
        "id": "jqi4eRr24hzC",
        "outputId": "942c39cd-147c-4905-cad3-bd9d6b7b9726"
      },
      "execution_count": null,
      "outputs": [
        {
          "output_type": "stream",
          "name": "stdout",
          "text": [
            "10\n",
            "15\n",
            "20\n"
          ]
        }
      ]
    },
    {
      "cell_type": "code",
      "source": [
        "class SinglyLinkedList:\n",
        "  def __init__(self):\n",
        "    self.head = None\n",
        "    self.size = 0\n",
        "\n",
        "  def append(self, new_data):\n",
        "    new_node = Node(new_data)\n",
        "    if self.head is None:\n",
        "      self.head = new_node\n",
        "    else:\n",
        "      current_node = self.head\n",
        "      while current_node.next is not None:\n",
        "        current_node = current_node.next\n",
        "      current_node.next = new_node\n",
        "    self.size+=1\n",
        "\n",
        "  def append_left(self, new_data):\n",
        "    new_node = Node(new_data)\n",
        "    if self.head is None:\n",
        "      self.head = new_node\n",
        "    else:\n",
        "      new_node.next = self.head\n",
        "      self.head = new_node\n",
        "    self.size+=1\n",
        "\n",
        "  def pop_left(self):\n",
        "    if self.size==0:\n",
        "      print(\"List is empty\")\n",
        "    else:\n",
        "      self.head = self.head.next\n",
        "      self.size-=1\n",
        "\n",
        "  def pop(self):\n",
        "    if self.size==0:\n",
        "      print(\"List is empty\")\n",
        "    else:\n",
        "      self.size-=1\n",
        "      if self.head.next is None:\n",
        "        self.head = None\n",
        "      else:\n",
        "        current_node = self.head\n",
        "        while current_node.next is not None:\n",
        "          if current_node.next.next is None:\n",
        "            current_node.next = None\n",
        "          else:\n",
        "            current_node = current_node.next\n",
        "\n",
        "  def delete(self, value_to_be_deleted):\n",
        "    if self.size==0:\n",
        "      print(\"List is empty\")\n",
        "    else:\n",
        "      if self.head==value_to_be_deleted:\n",
        "        self.pop_left()\n",
        "      else:\n",
        "        current_node = self.head\n",
        "        while current_node.next is not None:\n",
        "          if current_node.next.data == value_to_be_deleted:\n",
        "            current_node.next = current_node.next.next\n",
        "            self.size-=1\n",
        "            return\n",
        "          else:\n",
        "            current_node = current_node.next\n",
        "\n",
        "  def print_all(self):\n",
        "    current_node = self.head\n",
        "    while current_node is not None:\n",
        "      print(current_node.data)\n",
        "      current_node = current_node.next\n",
        "\n",
        "  def search(self, search_data):\n",
        "    current_node = self.head\n",
        "    while current_node is not None:\n",
        "      if current_node.data == search_data:\n",
        "        return True\n",
        "      current_node = current_node.next\n",
        "    return False\n",
        "\n",
        "  def clear(self):\n",
        "    self.head = None\n",
        "\n"
      ],
      "metadata": {
        "id": "e7M7jDSK62vT"
      },
      "execution_count": null,
      "outputs": []
    },
    {
      "cell_type": "code",
      "source": [
        "s = SinglyLinkedList()\n",
        "s.append(10)\n",
        "s.append(15)\n",
        "s.append(20)\n",
        "\n",
        "print(s.size)\n",
        "s.print_all()\n",
        "print(s.search(50))"
      ],
      "metadata": {
        "colab": {
          "base_uri": "https://localhost:8080/"
        },
        "id": "yZKLto3y-QM7",
        "outputId": "35e632a3-a045-48db-c7a4-9cb182a5219b"
      },
      "execution_count": null,
      "outputs": [
        {
          "output_type": "stream",
          "name": "stdout",
          "text": [
            "3\n",
            "10\n",
            "15\n",
            "20\n",
            "False\n"
          ]
        }
      ]
    },
    {
      "cell_type": "code",
      "source": [],
      "metadata": {
        "id": "7j7xHCJdfXW1"
      },
      "execution_count": null,
      "outputs": []
    },
    {
      "cell_type": "code",
      "source": [
        "class Node:\n",
        "  def __init__(self, data):\n",
        "    self.data = data\n",
        "    self.next = None\n",
        "    self.prev = None\n",
        "\n",
        "class DoublyLinkedList:\n",
        "  def __init__(self):\n",
        "   self.head = None\n",
        "   self.tail = None\n",
        "   self.size = 0\n",
        "\n",
        "  def append(self, new_data):\n",
        "    new_node = Node(new_data)\n",
        "    if self.head is None:\n",
        "      self.head = new_node\n",
        "      self.tail = new_node\n",
        "    else:\n",
        "      self.tail.next = new_node\n",
        "      new_node.prev = self.tail\n",
        "      self.tail = new_node\n",
        "    self.size += 1\n",
        "\n",
        "  def print_all(self):\n",
        "    current_node = self.head\n",
        "    while current_node is not None:\n",
        "      print(\"Node\",current_node.data)\n",
        "      current_node = current_node.next\n",
        "\n",
        "  def print_reverse(self):\n",
        "    current_node = self.tail\n",
        "    while current_node is not None:\n",
        "      print(\"Node\",current_node.data)\n",
        "      current_node = current_node.prev\n",
        "\n",
        "  def search(self, search_data):\n",
        "    current_node = self.head\n",
        "    while current_node:\n",
        "      if current_node.data == search_data:\n",
        "        return True\n",
        "      current_node= current_node.next\n",
        "    return False\n",
        "\n",
        "  def delete(self, value_to_be_deleted):\n",
        "    current_node = self.head\n",
        "    while current_node is not None:\n",
        "      if current_node.data==value_to_be_deleted:\n",
        "        if current_node == self.head: #deletion at the starting node\n",
        "          self.head = current_node.next\n",
        "          if current_node == self.tail: #Single node deletion\n",
        "            self.tail = None\n",
        "          else:\n",
        "            current_node.next.prev = None\n",
        "        elif current_node == self.tail: #deletion at the end\n",
        "          current_node.prev.next = None\n",
        "          self.tail = current_node.prev\n",
        "        else: #deletion in the middle of the list\n",
        "          current_node.prev.next = current_node.next\n",
        "          current_node.next.prev = current_node.prev\n",
        "        self.size -= 1\n",
        "        return\n",
        "      current_node = current_node.next\n",
        "\n",
        "\n",
        "dll = DoublyLinkedList()\n",
        "dll.append(10)\n",
        "dll.append(20)\n",
        "dll.append(30)\n",
        "dll.delete(10)\n",
        "\n",
        "dll.print_reverse()\n"
      ],
      "metadata": {
        "colab": {
          "base_uri": "https://localhost:8080/"
        },
        "id": "CIkNLMnwSP7y",
        "outputId": "a25a0de5-8eee-413f-96b2-4ceec0e9f05f"
      },
      "execution_count": null,
      "outputs": [
        {
          "output_type": "stream",
          "name": "stdout",
          "text": [
            "Node 30\n",
            "Node 20\n"
          ]
        }
      ]
    },
    {
      "cell_type": "markdown",
      "source": [
        "calculate sum\n",
        "\n",
        "identical linked list\n",
        "\n",
        "print all except alternate nodes"
      ],
      "metadata": {
        "id": "H2Hs975B-eW1"
      }
    },
    {
      "cell_type": "code",
      "source": [
        "class Node:\n",
        "  def __init__(self, data):\n",
        "    self.data = data\n",
        "    self.next = None\n",
        "\n",
        "class SpecialSinglyLinkedList:\n",
        "  def __init__(self):\n",
        "    self.head = None\n",
        "    self.tail = None\n",
        "    self.size = 0\n",
        "\n",
        "  def print_all(self):\n",
        "    current_node = self.head\n",
        "    while current_node is not None:\n",
        "      print(current_node.data)\n",
        "      current_node = current_node.next\n",
        "\n",
        "  def append(self, new_data):\n",
        "    new_node = Node(new_data)\n",
        "    if self.head is None:\n",
        "      self.head = new_node\n",
        "      self.tail = new_node\n",
        "    else:\n",
        "      self.tail.next = new_node\n",
        "      self.tail = new_node\n",
        "    self.size+=1"
      ],
      "metadata": {
        "id": "qmcer7Su-5bK"
      },
      "execution_count": null,
      "outputs": []
    },
    {
      "cell_type": "code",
      "source": [
        "#calculate sum\n",
        "\n",
        "s = SinglyLinkedList()\n",
        "s.append(10)\n",
        "s.append(40)\n",
        "s.append(30)\n",
        "s2 = SinglyLinkedList()\n",
        "\n",
        "def calculate_sum(s_object):\n",
        "  if s_object.size!=0:\n",
        "    sum = 0\n",
        "    current_node = s_object.head\n",
        "    while current_node is not None:\n",
        "      sum+=current_node.data\n",
        "      current_node = current_node.next\n",
        "    return sum\n",
        "\n",
        "calculate_sum(s)"
      ],
      "metadata": {
        "colab": {
          "base_uri": "https://localhost:8080/"
        },
        "id": "rg40BjV-vfkm",
        "outputId": "eb58c8c1-66ab-4cce-c540-9a1d307df91a"
      },
      "execution_count": null,
      "outputs": [
        {
          "output_type": "execute_result",
          "data": {
            "text/plain": [
              "80"
            ]
          },
          "metadata": {},
          "execution_count": 4
        }
      ]
    },
    {
      "cell_type": "code",
      "source": [
        "#identical linked list\n",
        "s1 = SinglyLinkedList()\n",
        "s1.append(10)\n",
        "s1.append(40)\n",
        "s1.append(30)\n",
        "s2 = SinglyLinkedList()\n",
        "s2.append(10)\n",
        "s2.append(80)\n",
        "s2.append(30)\n",
        "\n",
        "def is_identical(list1, list2):\n",
        "  identical = True\n",
        "  if list1.size!=list2.size:\n",
        "    return False\n",
        "  else:\n",
        "    if list1.size!=0 and list2.size!=0:\n",
        "      current_node1 = list1.head\n",
        "      current_node2 = list2.head\n",
        "\n",
        "      while current_node1 is not None:\n",
        "        if current_node1.data == current_node2.data:\n",
        "          identical = True\n",
        "        else:\n",
        "          identical = False\n",
        "          return identical\n",
        "        current_node1 = current_node1.next\n",
        "        current_node2 = current_node2.next\n",
        "\n",
        "  return identical\n",
        "is_identical(s1,s2)"
      ],
      "metadata": {
        "colab": {
          "base_uri": "https://localhost:8080/"
        },
        "id": "as_qz4vqxVdO",
        "outputId": "5077f052-f539-49ff-c921-230b7b35a19a"
      },
      "execution_count": null,
      "outputs": [
        {
          "output_type": "execute_result",
          "data": {
            "text/plain": [
              "False"
            ]
          },
          "metadata": {},
          "execution_count": 9
        }
      ]
    },
    {
      "cell_type": "code",
      "source": [
        "#alternate node print\n",
        "\n",
        "s = SinglyLinkedList()\n",
        "s.append(10)\n",
        "s.append(20)\n",
        "s.append(30)\n",
        "s.append(40)\n",
        "s.append(50)\n",
        "\n",
        "def print_all_except_alt(s_object):\n",
        "  current_node = s_object.head\n",
        "  counter = 0\n",
        "  if current_node is None:\n",
        "    return\n",
        "  while current_node is not None:\n",
        "    if counter%2==0:\n",
        "      print(current_node.data)\n",
        "    counter+=1\n",
        "    current_node = current_node.next\n",
        "\n",
        "print_all_except_alt(s)"
      ],
      "metadata": {
        "colab": {
          "base_uri": "https://localhost:8080/"
        },
        "id": "XdL6o7Sc02wV",
        "outputId": "cd634c6c-fa1a-4054-c9d1-0604747d76f5"
      },
      "execution_count": null,
      "outputs": [
        {
          "output_type": "stream",
          "name": "stdout",
          "text": [
            "10\n",
            "30\n",
            "50\n"
          ]
        }
      ]
    },
    {
      "cell_type": "markdown",
      "source": [
        "Print a dictionary where the keys are numbers between 1 and 15 and the values are square of keys"
      ],
      "metadata": {
        "id": "QRWcxr3k20OY"
      }
    },
    {
      "cell_type": "code",
      "source": [
        "my_dictionary = dict()\n",
        "for i in range(15, 0, -1):\n",
        "  my_dictionary[i] = i**2\n",
        "\n",
        "print(my_dictionary)"
      ],
      "metadata": {
        "colab": {
          "base_uri": "https://localhost:8080/"
        },
        "id": "_dEM73dt2eaG",
        "outputId": "18b5ebb7-7700-4535-ed77-3da2e13fc456"
      },
      "execution_count": null,
      "outputs": [
        {
          "output_type": "stream",
          "name": "stdout",
          "text": [
            "{15: 225, 14: 196, 13: 169, 12: 144, 11: 121, 10: 100, 9: 81, 8: 64, 7: 49, 6: 36, 5: 25, 4: 16, 3: 9, 2: 4, 1: 1}\n"
          ]
        }
      ]
    },
    {
      "cell_type": "code",
      "source": [
        "#sum of all values in a dictionary\n",
        "\n",
        "my_dictionary = {'data1':100, 'data2':200, 'data3':300}\n",
        "print(sum(my_dictionary.values()))"
      ],
      "metadata": {
        "colab": {
          "base_uri": "https://localhost:8080/"
        },
        "id": "HpPgV2xQ3wnF",
        "outputId": "373ed54a-fe54-4df4-e634-ec3043feb019"
      },
      "execution_count": null,
      "outputs": [
        {
          "output_type": "stream",
          "name": "stdout",
          "text": [
            "600\n"
          ]
        }
      ]
    },
    {
      "cell_type": "code",
      "source": [
        "def sum_dict(d):\n",
        "  my_list = []\n",
        "  for i in d:\n",
        "    my_list.append(d[i])\n",
        "  return sum(my_list)\n",
        "\n",
        "sum_dict(my_dictionary)\n"
      ],
      "metadata": {
        "colab": {
          "base_uri": "https://localhost:8080/"
        },
        "id": "fSm11MlX4Cum",
        "outputId": "063de3ab-5f58-4967-cf1a-0a3405fc7e4c"
      },
      "execution_count": null,
      "outputs": [
        {
          "output_type": "execute_result",
          "data": {
            "text/plain": [
              "600"
            ]
          },
          "metadata": {},
          "execution_count": 15
        }
      ]
    },
    {
      "cell_type": "code",
      "source": [
        "#add two matrix\n",
        "\n",
        "x = [[12,7,3],[4,5,6],[7,8,9]]\n",
        "y = [[5,8,1], [6,7,3], [4,5,9]]\n",
        "\n",
        "z = [[0,0,0], [0,0,0], [0,0,0]]\n",
        "\n",
        "for i in range(len(x)):\n",
        "  for j in range(len(x[0])):\n",
        "    z[i][j] = x[i][j]+y[i][j]\n",
        "\n",
        "for i in z:\n",
        "  print(i)\n"
      ],
      "metadata": {
        "colab": {
          "base_uri": "https://localhost:8080/"
        },
        "id": "bmWFbffE5PwF",
        "outputId": "4296ff1f-94d5-4578-b69f-617576bb769c"
      },
      "execution_count": null,
      "outputs": [
        {
          "output_type": "stream",
          "name": "stdout",
          "text": [
            "[17, 15, 4]\n",
            "[10, 12, 9]\n",
            "[11, 13, 18]\n"
          ]
        }
      ]
    },
    {
      "cell_type": "markdown",
      "source": [],
      "metadata": {
        "id": "NVTV4XUzu1oA"
      }
    },
    {
      "cell_type": "markdown",
      "source": [
        "# Recursion"
      ],
      "metadata": {
        "id": "uaYFBrtiu3t5"
      }
    },
    {
      "cell_type": "code",
      "source": [
        "def sum(x, y):\n",
        "  z = x+y\n",
        "  return z\n",
        "\n",
        "def square_of_sum(a,b):\n",
        "  c = sum(a, b)\n",
        "  d = c**2\n",
        "  return d\n",
        "\n",
        "number1 = 2\n",
        "number2 = 3\n",
        "result = square_of_sum(number1, number2)\n",
        "print(result)"
      ],
      "metadata": {
        "id": "JF5IlTsuwpwA",
        "colab": {
          "base_uri": "https://localhost:8080/"
        },
        "outputId": "5c3bd188-6341-40a9-e886-4e47622c5401"
      },
      "execution_count": null,
      "outputs": [
        {
          "output_type": "stream",
          "name": "stdout",
          "text": [
            "25\n"
          ]
        }
      ]
    },
    {
      "cell_type": "code",
      "source": [
        "def hello():\n",
        "  print(\"hi\")\n",
        "  hello()\n",
        "\n",
        "hello()"
      ],
      "metadata": {
        "id": "-HMSwJik42jn"
      },
      "execution_count": null,
      "outputs": []
    },
    {
      "cell_type": "code",
      "source": [
        "def r(i):\n",
        "  if i<10:\n",
        "    i+=1\n",
        "    r(i)\n",
        "    print(i)\n",
        "\n",
        "r(5)"
      ],
      "metadata": {
        "id": "kukVtiXo5M8_"
      },
      "execution_count": null,
      "outputs": []
    },
    {
      "cell_type": "code",
      "source": [
        "def factorial(n):\n",
        "  if n>1:\n",
        "    return n*factorial(n-1)\n",
        "  return 1\n",
        "\n",
        "factorial(4)"
      ],
      "metadata": {
        "id": "W0eALQxe-bGg"
      },
      "execution_count": null,
      "outputs": []
    },
    {
      "cell_type": "markdown",
      "source": [
        "fibonacci number using recursion"
      ],
      "metadata": {
        "id": "AVWTfm9ICho4"
      }
    },
    {
      "cell_type": "code",
      "source": [
        "# Function for nth Fibonacci number\n",
        "def Fibonacci(n):\n",
        "\n",
        "  # Check if input is 0 then it will\n",
        "  # print incorrect input\n",
        "  if n < 0:\n",
        "    print(\"Incorrect input\")\n",
        "\n",
        "  # Check if n is 0\n",
        "  # then it will return 0\n",
        "  elif n == 0:\n",
        "    return 0\n",
        "\n",
        "  # Check if n is 1,2\n",
        "  # it will return 1\n",
        "  elif n == 1 or n == 2:\n",
        "    return 1\n",
        "\n",
        "  else:\n",
        "    return Fibonacci(n-1) + Fibonacci(n-2)\n",
        "\n",
        "# Driver Program\n",
        "print(Fibonacci(7))"
      ],
      "metadata": {
        "id": "dAjA80m8Cm9W"
      },
      "execution_count": null,
      "outputs": []
    },
    {
      "cell_type": "markdown",
      "source": [],
      "metadata": {
        "id": "sESOAlA41eqJ"
      }
    },
    {
      "cell_type": "markdown",
      "source": [
        "# BST"
      ],
      "metadata": {
        "id": "6m-3EClP1fHK"
      }
    },
    {
      "cell_type": "code",
      "source": [
        "class Node:\n",
        "  def __init__(self, data):\n",
        "    self.data = data\n",
        "    self.right_child = None\n",
        "    self.left_child = None\n",
        "\n",
        "root = Node(\"A\")\n",
        "n2 = Node(\"B\")\n",
        "n3 = Node(\"C\")\n",
        "n4 = Node(\"D\")\n",
        "n5 = Node(\"E\")\n",
        "n6 = Node(\"F\")\n",
        "\n",
        "root.left_child = n2\n",
        "root.right_child = n3\n",
        "n2.left_child = n4\n",
        "n3.left_child = n5\n",
        "n3.right_child = n6\n",
        "\n",
        "current_node = root\n",
        "while current_node.left_child is not None:\n",
        "  current_node = current_node.left_child\n",
        "print(current_node.data)"
      ],
      "metadata": {
        "colab": {
          "base_uri": "https://localhost:8080/"
        },
        "id": "qrs-8PtN1hUx",
        "outputId": "1398a07b-142d-4312-e28b-35a197e50a0e"
      },
      "execution_count": null,
      "outputs": [
        {
          "output_type": "stream",
          "name": "stdout",
          "text": [
            "D\n"
          ]
        }
      ]
    },
    {
      "cell_type": "code",
      "source": [
        "from collections import deque\n",
        "class Node:\n",
        "  def __init__(self, data):\n",
        "    self.data = data\n",
        "    self.right_child = None\n",
        "    self.left_child = None\n",
        "\n",
        "class BinarySearchTree:\n",
        "  def __init__(self, root=None):\n",
        "    self.root = root\n",
        "\n",
        "  def insert(self, new_data):\n",
        "    new_node = Node(new_data)\n",
        "    if self.root is None:\n",
        "      self.root = new_node\n",
        "    else:\n",
        "      current_node = self.root\n",
        "      parent = None\n",
        "      while True:\n",
        "        parent = current_node\n",
        "        if current_node.data>new_node.data:\n",
        "          current_node = current_node.left_child\n",
        "          if current_node is None:\n",
        "            parent.left_child = new_node\n",
        "            return\n",
        "        else:\n",
        "          current_node = current_node.right_child\n",
        "          if current_node is None:\n",
        "            parent.right_child = new_node\n",
        "            return\n",
        "\n",
        "  def find_min(self):\n",
        "    current_node = self.root\n",
        "    while current_node.left_child is not None:\n",
        "      current_node = current_node.left_child\n",
        "    return current_node\n",
        "\n",
        "  def find_max(self):\n",
        "    current_node = self.root\n",
        "    while current_node.right_child is not None:\n",
        "      current_node = current_node.right_child\n",
        "    return current_node\n",
        "\n",
        "  def search(self, search_data):\n",
        "    current_node = self.root\n",
        "    while True:\n",
        "      if current_node is None:\n",
        "        return None\n",
        "      elif current_node.data==search_data:\n",
        "        return search_data\n",
        "      elif current_node.data>search_data:\n",
        "        current_node = current_node.left_child\n",
        "      else:\n",
        "        current_node = current_node.right_child\n",
        "\n",
        "  def preorder(self, root_node):\n",
        "    current_node = root_node\n",
        "    if current_node is None:\n",
        "      return\n",
        "    print(current_node.data)\n",
        "    self.preorder(current_node.left_child)\n",
        "    self.preorder(current_node.right_child)\n",
        "\n",
        "  def inorder(self, root_node):\n",
        "    current_node = root_node\n",
        "    if current_node is None:\n",
        "      return\n",
        "    self.inorder(current_node.left_child)\n",
        "    print(current_node.data)\n",
        "    self.inorder(current_node.right_child)\n",
        "\n",
        "  def postorder(self, root_node):\n",
        "    current_node = root_node\n",
        "    if current_node is None:\n",
        "      return\n",
        "    self.postorder(current_node.left_child)\n",
        "    self.postorder(current_node.right_child)\n",
        "    print(current_node.data)\n",
        "\n",
        "  def breadth_first_search(self):\n",
        "    BFS = []\n",
        "    queue = deque([self.root])\n",
        "    while len(queue)>0:\n",
        "      target_node = queue.popleft()\n",
        "      BFS.append(target_node.data)\n",
        "      if target_node.left_child is not None:\n",
        "        queue.append(target_node.left_child)\n",
        "      if target_node.right_child is not None:\n",
        "        queue.append(target_node.right_child)\n",
        "    return BFS\n",
        "\n",
        "  def get_max_depth(self, node):\n",
        "    if node is None:\n",
        "      return -1\n",
        "    else:\n",
        "      lDepth = self.get_max_depth(node.left_child)\n",
        "      rDepth = self.get_max_depth(node.right_child)\n",
        "\n",
        "      if lDepth>rDepth:\n",
        "        return lDepth + 1\n",
        "      else:\n",
        "        return rDepth + 1\n",
        "\n",
        "  def print_levels(self, root, current_level):\n",
        "    current_node = root\n",
        "    if current_node is None:\n",
        "      return\n",
        "    print(\"level of\",current_node.data, \"is\", current_level)\n",
        "    self.print_levels(current_node.left_child, current_level+1)\n",
        "    self.print_levels(current_node.right_child, current_level+1)\n",
        "\n"
      ],
      "metadata": {
        "id": "EjaR5gvU52Fr"
      },
      "execution_count": 1,
      "outputs": []
    },
    {
      "cell_type": "code",
      "source": [
        "bst = BinarySearchTree()\n",
        "bst.insert(7)\n",
        "bst.insert(5)\n",
        "bst.insert(9)\n",
        "bst.insert(8)\n",
        "bst.insert(15)\n",
        "bst.insert(16)\n",
        "print(\"Minimum value:\" ,bst.find_min().data)\n",
        "print(\"Maximum value:\" ,bst.find_max().data)\n",
        "bst.inorder(bst.root)\n",
        "bst.breadth_first_search()\n",
        "print(\"Max Depth:\",bst.get_max_depth(bst.root))\n",
        "print(\"Height:\",bst.get_max_depth(bst.root)+1)\n",
        "bst.print_levels(bst.root, 0)"
      ],
      "metadata": {
        "colab": {
          "base_uri": "https://localhost:8080/"
        },
        "id": "Llv_r0bXAr3E",
        "outputId": "1a31e980-8124-4076-9b37-5889ac3b9c64"
      },
      "execution_count": null,
      "outputs": [
        {
          "output_type": "stream",
          "name": "stdout",
          "text": [
            "Minimum value: 5\n",
            "Maximum value: 16\n",
            "5\n",
            "7\n",
            "8\n",
            "9\n",
            "15\n",
            "16\n",
            "Max Depth: 3\n",
            "Height: 4\n",
            "level of 7 is 0\n",
            "level of 5 is 1\n",
            "level of 9 is 1\n",
            "level of 8 is 2\n",
            "level of 15 is 2\n",
            "level of 16 is 3\n"
          ]
        }
      ]
    },
    {
      "cell_type": "code",
      "source": [],
      "metadata": {
        "id": "uCdytKptDod0"
      },
      "execution_count": null,
      "outputs": []
    },
    {
      "cell_type": "markdown",
      "source": [
        "# Graph"
      ],
      "metadata": {
        "id": "nnglVJeGCMx5"
      }
    },
    {
      "cell_type": "code",
      "source": [
        "from collections import Counter\n",
        "graph = dict()\n",
        "graph['a'] = ['c','d','e']\n",
        "graph['b'] = ['a']\n",
        "graph['c'] = []\n",
        "graph['d'] = []\n",
        "graph['e'] = ['d','c']\n",
        "\n",
        "for x in graph:\n",
        "  print(x,\":\",graph[x])\n",
        "\n",
        "#degree of undirected graph\n",
        "#outdegree of directed graph\n",
        "for x in graph:\n",
        "  print(\"Degree of\",x,\":\", len(graph[x]))\n",
        "\n",
        "#indegree of directed graph\n",
        "merged_list=[]\n",
        "for x in graph:\n",
        "  merged_list+=graph[x]\n",
        "indegree = Counter(merged_list)\n",
        "for x in indegree:\n",
        "  print(\"Indegree of\",x,\":\", indegree[x])\n"
      ],
      "metadata": {
        "colab": {
          "base_uri": "https://localhost:8080/"
        },
        "id": "e10NCHXlCOh4",
        "outputId": "a9d1c7e5-fe8e-43e6-ed74-ff265827b1e9"
      },
      "execution_count": null,
      "outputs": [
        {
          "output_type": "stream",
          "name": "stdout",
          "text": [
            "a : ['c', 'd', 'e']\n",
            "b : ['a']\n",
            "c : []\n",
            "d : []\n",
            "e : ['d', 'c']\n",
            "Degree of a : 3\n",
            "Degree of b : 1\n",
            "Degree of c : 0\n",
            "Degree of d : 0\n",
            "Degree of e : 2\n",
            "Indegree of c : 2\n",
            "Indegree of d : 2\n",
            "Indegree of e : 1\n",
            "Indegree of a : 1\n"
          ]
        }
      ]
    },
    {
      "cell_type": "code",
      "source": [
        "n=5\n",
        "graph_matrix = [[0 for i in range(n)]for j in range(n)]\n",
        "graph_matrix[0][2]=1\n",
        "graph_matrix[0][3]=1\n",
        "graph_matrix[0][4]=1\n",
        "graph_matrix[1][0]=1\n",
        "graph_matrix[4][2]=1\n",
        "graph_matrix[4][3]=1\n",
        "\n",
        "\n",
        "for i in range(0,n):\n",
        "  sumRow = 0\n",
        "  for j in range(0,n):\n",
        "    sumRow = sumRow + graph_matrix[i][j]\n",
        "  print(\"Outdegree of\",i, \":\", sumRow)\n",
        "\n",
        "for i in range(0,n):\n",
        "  sumCol = 0\n",
        "  for j in range(0,n):\n",
        "    sumCol = sumCol + graph_matrix[j][i]\n",
        "  print(\"Indegree of\",i, \":\", sumCol)\n",
        "\n",
        "graph_matrix"
      ],
      "metadata": {
        "colab": {
          "base_uri": "https://localhost:8080/"
        },
        "id": "Gi9p1eFWHDfZ",
        "outputId": "697e17dc-3ded-42c9-b126-8c63ac779b22"
      },
      "execution_count": null,
      "outputs": [
        {
          "output_type": "stream",
          "name": "stdout",
          "text": [
            "Outdegree of 0 : 3\n",
            "Outdegree of 1 : 1\n",
            "Outdegree of 2 : 0\n",
            "Outdegree of 3 : 0\n",
            "Outdegree of 4 : 2\n",
            "Indegree of 0 : 1\n",
            "Indegree of 1 : 0\n",
            "Indegree of 2 : 2\n",
            "Indegree of 3 : 2\n",
            "Indegree of 4 : 1\n"
          ]
        },
        {
          "output_type": "execute_result",
          "data": {
            "text/plain": [
              "[[0, 0, 1, 1, 1],\n",
              " [1, 0, 0, 0, 0],\n",
              " [0, 0, 0, 0, 0],\n",
              " [0, 0, 0, 0, 0],\n",
              " [0, 0, 1, 1, 0]]"
            ]
          },
          "metadata": {},
          "execution_count": 9
        }
      ]
    },
    {
      "cell_type": "code",
      "source": [
        "from collections import deque\n",
        "graph = dict()\n",
        "graph['a'] = ['c','d','e']\n",
        "graph['b'] = ['a']\n",
        "graph['c'] = ['f']\n",
        "graph['d'] = []\n",
        "graph['e'] = ['c','d']\n",
        "graph['f'] = ['b']\n",
        "\n",
        "visited = set()\n",
        "def dfs(visited, graph, node):\n",
        "  if node not in visited:\n",
        "    print(node)\n",
        "    visited.add(node)\n",
        "    for adjacent_node in graph[node]:\n",
        "      dfs(visited, graph, adjacent_node)\n",
        "\n",
        "def bfs(graph, node):\n",
        "  visited = list()\n",
        "  helping_queue = deque([node])\n",
        "  visited.append(node)\n",
        "  target_node = node\n",
        "  while len(helping_queue)>0:\n",
        "    target_node = helping_queue.popleft()\n",
        "    adjacent_nodes = graph[target_node]\n",
        "    remaining_elements = set(adjacent_nodes).difference(set(visited))\n",
        "    if len(remaining_elements)>0:\n",
        "      for x in sorted(remaining_elements):\n",
        "        visited.append(x)\n",
        "        helping_queue.append(x)\n",
        "  return visited\n",
        "\n",
        "#dfs(visited, graph, 'a')\n",
        "bfs(graph, 'a')"
      ],
      "metadata": {
        "colab": {
          "base_uri": "https://localhost:8080/"
        },
        "id": "6awhj8e1NTcb",
        "outputId": "ccdf7950-30f3-429f-ed00-a4ef25de94ba"
      },
      "execution_count": null,
      "outputs": [
        {
          "output_type": "execute_result",
          "data": {
            "text/plain": [
              "['a', 'c', 'd', 'e', 'f', 'b']"
            ]
          },
          "metadata": {},
          "execution_count": 3
        }
      ]
    },
    {
      "cell_type": "code",
      "source": [
        "from collections import deque\n",
        "graph = dict()\n",
        "graph['a'] = ['c','d','e']\n",
        "graph['b'] = ['d']\n",
        "graph['c'] = ['a', 'e']\n",
        "graph['d'] = ['a','b','e']\n",
        "graph['e'] = ['a','c','d']\n",
        "\n",
        "def print_levels(graph, root):\n",
        "  visited = list()\n",
        "  helping_queue = deque([root])\n",
        "  visited.append(root)\n",
        "  target_node = root\n",
        "  levels = dict()\n",
        "  count = 0\n",
        "  levels[0] = [root]\n",
        "  while len(helping_queue)>0:\n",
        "    target_node = helping_queue.popleft()\n",
        "    adjacent_nodes = graph[target_node]\n",
        "    remaining_elements = set(adjacent_nodes).difference(set(visited))\n",
        "\n",
        "    if len(remaining_elements)!=0:\n",
        "      count+=1\n",
        "      levels[count] = list(remaining_elements)\n",
        "\n",
        "    if len(remaining_elements)>0:\n",
        "      for x in sorted(remaining_elements):\n",
        "        visited.append(x)\n",
        "        helping_queue.append(x)\n",
        "  print(levels)\n",
        "  return visited\n",
        "\n",
        "print_levels(graph, 'a')"
      ],
      "metadata": {
        "id": "XAp9NtCsCMqf",
        "colab": {
          "base_uri": "https://localhost:8080/"
        },
        "outputId": "3dd04739-67ad-40d9-bb9f-845e8efda7a7"
      },
      "execution_count": null,
      "outputs": [
        {
          "output_type": "stream",
          "name": "stdout",
          "text": [
            "{0: ['a'], 1: ['e', 'c', 'd'], 2: ['b']}\n"
          ]
        },
        {
          "output_type": "execute_result",
          "data": {
            "text/plain": [
              "['a', 'c', 'd', 'e', 'b']"
            ]
          },
          "metadata": {},
          "execution_count": 7
        }
      ]
    },
    {
      "cell_type": "markdown",
      "source": [
        "# Hashing"
      ],
      "metadata": {
        "id": "IyP9D72mFdr4"
      }
    },
    {
      "cell_type": "code",
      "source": [
        "from collections import deque\n",
        "#separate chaining\n",
        "\n",
        "table_size = 10\n",
        "hash_table = dict((k, deque()) for k in range(table_size))\n",
        "\n",
        "def hash_function(k):\n",
        "  return k%table_size\n",
        "\n",
        "def put(new_data):\n",
        "  key = hash_function(new_data)\n",
        "  hash_table[key].appendleft(new_data)\n",
        "\n",
        "def search(search_data):\n",
        "  key = hash_function(search_data)\n",
        "  if search_data in hash_table[key]:\n",
        "    return True\n",
        "  else:\n",
        "    return False\n",
        "\n",
        "def delete(data):\n",
        "  key = hash_function(data)\n",
        "  if data in hash_table[key]:\n",
        "    hash_table[key].remove(data)\n",
        "  else:\n",
        "    print(\"Element does not exist\")\n",
        "\n",
        "put(45)\n",
        "put(35)\n",
        "put(33)\n",
        "print(search(30))\n",
        "delete(45)\n",
        "for x in hash_table:\n",
        "  print(x, \":\", hash_table[x])"
      ],
      "metadata": {
        "colab": {
          "base_uri": "https://localhost:8080/"
        },
        "id": "hQle6G66Ffop",
        "outputId": "c3aef0a9-6d1c-43d4-c430-468a1ac6792b"
      },
      "execution_count": null,
      "outputs": [
        {
          "output_type": "stream",
          "name": "stdout",
          "text": [
            "False\n",
            "0 : deque([])\n",
            "1 : deque([])\n",
            "2 : deque([])\n",
            "3 : deque([33])\n",
            "4 : deque([])\n",
            "5 : deque([35])\n",
            "6 : deque([])\n",
            "7 : deque([])\n",
            "8 : deque([])\n",
            "9 : deque([])\n"
          ]
        }
      ]
    },
    {
      "cell_type": "code",
      "source": [
        "#linear probing\n",
        "\n",
        "table_size = 10\n",
        "hash_table = dict((k, None) for k in range(table_size))\n",
        "\n",
        "def hash_function(k):\n",
        "  return k%table_size\n",
        "\n",
        "def count_none():\n",
        "  return list(hash_table.values()).count(None)\n",
        "\n",
        "def put(new_data):\n",
        "  if count_none()!=0:\n",
        "    key = hash_function(new_data)\n",
        "    while hash_table[key] is not None:\n",
        "      key = (key+1)%table_size\n",
        "    hash_table[key] = new_data\n",
        "  else:\n",
        "    print(\"Hash table is full\")\n",
        "\n",
        "def search(search_data):\n",
        "  key = hash_function(search_data)\n",
        "  count=0\n",
        "  while hash_table[key] is not search_data:\n",
        "    key = (key+1)%table_size\n",
        "    count+=1\n",
        "    if count==table_size:\n",
        "      break\n",
        "  if hash_table[key] is search_data:\n",
        "    return True\n",
        "  else:\n",
        "    return False\n",
        "\n",
        "def delete(data):\n",
        "  key = hash_function(data)\n",
        "  count=0\n",
        "  while hash_table[key] is not data:\n",
        "    key = (key+1)%table_size\n",
        "    count+=1\n",
        "    if count==table_size:\n",
        "      break\n",
        "  if hash_table[key] is data:\n",
        "    hash_table[key] = None\n",
        "  else:\n",
        "    print(\"Element does not exist\")\n",
        "\n",
        "put(45)\n",
        "put(35)\n",
        "put(25)\n",
        "put(36)\n",
        "put(22)\n",
        "put(99)\n",
        "put(62)\n",
        "put(77)\n",
        "put(44)\n",
        "put(100)\n",
        "put(102)\n",
        "print(search(200))\n",
        "delete(25)\n",
        "for x in hash_table:\n",
        "  print(x, \":\", hash_table[x])"
      ],
      "metadata": {
        "colab": {
          "base_uri": "https://localhost:8080/"
        },
        "id": "fdFdrHeqUvX4",
        "outputId": "e1d9228b-8b0a-49cb-b5cc-c0d3a8061c44"
      },
      "execution_count": null,
      "outputs": [
        {
          "output_type": "stream",
          "name": "stdout",
          "text": [
            "Hash table is full\n",
            "False\n",
            "0 : 77\n",
            "1 : 100\n",
            "2 : 22\n",
            "3 : 62\n",
            "4 : 44\n",
            "5 : 45\n",
            "6 : 35\n",
            "7 : None\n",
            "8 : 36\n",
            "9 : 99\n"
          ]
        }
      ]
    },
    {
      "cell_type": "code",
      "source": [],
      "metadata": {
        "id": "0Ko4fjUFZTTh"
      },
      "execution_count": null,
      "outputs": []
    },
    {
      "cell_type": "markdown",
      "source": [
        "# Doubly linked list"
      ],
      "metadata": {
        "id": "OjabKPsDF45N"
      }
    },
    {
      "cell_type": "code",
      "source": [
        "#doubly linked list\n",
        "class Node:\n",
        "  def __init__(self, data):\n",
        "    self.data = data\n",
        "    self.next = None\n",
        "    self.prev = None\n",
        "\n",
        "class DoublyLinkedList:\n",
        "  def __init__(self):\n",
        "   self.head = None\n",
        "   self.tail = None\n",
        "   self.size = 0\n",
        "\n",
        "  def append(self, new_data):\n",
        "    new_node = Node(new_data)\n",
        "    if self.head is None:\n",
        "      self.head = new_node\n",
        "      self.tail = new_node\n",
        "    else:\n",
        "      self.tail.next = new_node\n",
        "      new_node.prev = self.tail\n",
        "      self.tail = new_node\n",
        "    self.size += 1\n",
        "\n",
        "  def print_all(self):\n",
        "    current_node = self.head\n",
        "    while current_node is not None:\n",
        "      print(\"Node\",current_node.data)\n",
        "      current_node = current_node.next\n",
        "\n",
        "  def print_reverse(self):\n",
        "    current_node = self.tail\n",
        "    while current_node is not None:\n",
        "      print(\"Node\",current_node.data)\n",
        "      current_node = current_node.prev\n",
        "\n",
        "  def search(self, search_data):\n",
        "    current_node = self.head\n",
        "    while current_node:\n",
        "      if current_node.data == search_data:\n",
        "        return True\n",
        "      current_node= current_node.next\n",
        "    return False\n",
        "\n",
        "  def delete(self, value_to_be_deleted):\n",
        "    current_node = self.head\n",
        "    while current_node is not None:\n",
        "      if current_node.data==value_to_be_deleted:\n",
        "        if current_node == self.head: #deletion at the starting node\n",
        "          self.head = current_node.next\n",
        "          if current_node == self.tail: #Single node deletion\n",
        "            self.tail = None\n",
        "          else:\n",
        "            current_node.next.prev = None\n",
        "        elif current_node == self.tail: #deletion at the end\n",
        "          current_node.prev.next = None\n",
        "          self.tail = current_node.prev\n",
        "        else: #deletion in the middle of the list\n",
        "          current_node.prev.next = current_node.next\n",
        "          current_node.next.prev = current_node.prev\n",
        "        self.size -= 1\n",
        "        return\n",
        "      current_node = current_node.next\n",
        "\n",
        "\n",
        "dll = DoublyLinkedList()\n",
        "dll.append(10)\n",
        "dll.append(20)\n",
        "dll.append(30)\n",
        "dll.delete(10)\n",
        "\n",
        "dll.print_reverse()\n"
      ],
      "metadata": {
        "colab": {
          "base_uri": "https://localhost:8080/"
        },
        "outputId": "62390014-ec71-46a4-c814-34731cda6024",
        "id": "KYeCkDRuDpjA"
      },
      "execution_count": null,
      "outputs": [
        {
          "output_type": "stream",
          "name": "stdout",
          "text": [
            "Node 30\n",
            "Node 20\n"
          ]
        }
      ]
    }
  ]
}